{
  "nbformat": 4,
  "nbformat_minor": 0,
  "metadata": {
    "colab": {
      "name": "xgb_final.ipynb",
      "provenance": [],
      "collapsed_sections": [],
      "include_colab_link": true
    },
    "kernelspec": {
      "name": "python3",
      "display_name": "Python 3"
    },
    "language_info": {
      "name": "python"
    },
    "accelerator": "GPU"
  },
  "cells": [
    {
      "cell_type": "markdown",
      "metadata": {
        "id": "view-in-github",
        "colab_type": "text"
      },
      "source": [
        "<a href=\"https://colab.research.google.com/github/hwangtaemin/Credit-Card-AI/blob/main/xgb_final.ipynb\" target=\"_parent\"><img src=\"https://colab.research.google.com/assets/colab-badge.svg\" alt=\"Open In Colab\"/></a>"
      ]
    },
    {
      "cell_type": "code",
      "metadata": {
        "id": "qi-etIIEwJrn",
        "colab": {
          "base_uri": "https://localhost:8080/"
        },
        "outputId": "b875fa16-2d3c-43d6-ff65-de3cd24bf5ac"
      },
      "source": [
        "!pip install optuna\n",
        "import pandas as pd\n",
        "import numpy as np\n",
        "import matplotlib.pyplot as plt\n",
        "import seaborn as sns\n",
        "import optuna\n",
        "from lightgbm import LGBMClassifier\n",
        "from xgboost import XGBClassifier\n",
        "from sklearn.metrics import log_loss\n",
        "from sklearn.metrics import mean_squared_error\n",
        "from sklearn.model_selection import train_test_split,KFold\n",
        "from sklearn.preprocessing import LabelEncoder"
      ],
      "execution_count": 1,
      "outputs": [
        {
          "output_type": "stream",
          "text": [
            "Collecting optuna\n",
            "\u001b[?25l  Downloading https://files.pythonhosted.org/packages/2b/21/d13081805e1e1afc71f5bb743ece324c8bd576237c51b899ecb38a717502/optuna-2.7.0-py3-none-any.whl (293kB)\n",
            "\u001b[K     |████████████████████████████████| 296kB 8.2MB/s \n",
            "\u001b[?25hCollecting cliff\n",
            "\u001b[?25l  Downloading https://files.pythonhosted.org/packages/a2/d6/7d9acb68a77acd140be7fececb7f2701b2a29d2da9c54184cb8f93509590/cliff-3.7.0-py3-none-any.whl (80kB)\n",
            "\u001b[K     |████████████████████████████████| 81kB 10.6MB/s \n",
            "\u001b[?25hRequirement already satisfied: scipy!=1.4.0 in /usr/local/lib/python3.7/dist-packages (from optuna) (1.4.1)\n",
            "Collecting alembic\n",
            "\u001b[?25l  Downloading https://files.pythonhosted.org/packages/eb/bd/c3486fd57a3eec5162a2e32e8f05880c990f0d92b03d268342d2e8fe7032/alembic-1.6.4-py2.py3-none-any.whl (164kB)\n",
            "\u001b[K     |████████████████████████████████| 174kB 26.5MB/s \n",
            "\u001b[?25hRequirement already satisfied: numpy in /usr/local/lib/python3.7/dist-packages (from optuna) (1.19.5)\n",
            "Requirement already satisfied: tqdm in /usr/local/lib/python3.7/dist-packages (from optuna) (4.41.1)\n",
            "Collecting colorlog\n",
            "  Downloading https://files.pythonhosted.org/packages/32/e6/e9ddc6fa1104fda718338b341e4b3dc31cd8039ab29e52fc73b508515361/colorlog-5.0.1-py2.py3-none-any.whl\n",
            "Requirement already satisfied: packaging>=20.0 in /usr/local/lib/python3.7/dist-packages (from optuna) (20.9)\n",
            "Collecting cmaes>=0.8.2\n",
            "  Downloading https://files.pythonhosted.org/packages/01/1f/43b01223a0366171f474320c6e966c39a11587287f098a5f09809b45e05f/cmaes-0.8.2-py3-none-any.whl\n",
            "Requirement already satisfied: sqlalchemy>=1.1.0 in /usr/local/lib/python3.7/dist-packages (from optuna) (1.4.15)\n",
            "Collecting pbr!=2.1.0,>=2.0.0\n",
            "\u001b[?25l  Downloading https://files.pythonhosted.org/packages/18/e0/1d4702dd81121d04a477c272d47ee5b6bc970d1a0990b11befa275c55cf2/pbr-5.6.0-py2.py3-none-any.whl (111kB)\n",
            "\u001b[K     |████████████████████████████████| 112kB 35.1MB/s \n",
            "\u001b[?25hRequirement already satisfied: PyYAML>=3.12 in /usr/local/lib/python3.7/dist-packages (from cliff->optuna) (3.13)\n",
            "Requirement already satisfied: pyparsing>=2.1.0 in /usr/local/lib/python3.7/dist-packages (from cliff->optuna) (2.4.7)\n",
            "Collecting cmd2>=1.0.0\n",
            "\u001b[?25l  Downloading https://files.pythonhosted.org/packages/15/8b/15061b32332bb35ea2a2f6263d0f616779d576e82739ec8e7fcf3c94abf5/cmd2-1.5.0-py3-none-any.whl (133kB)\n",
            "\u001b[K     |████████████████████████████████| 143kB 22.0MB/s \n",
            "\u001b[?25hCollecting stevedore>=2.0.1\n",
            "\u001b[?25l  Downloading https://files.pythonhosted.org/packages/d4/49/b602307aeac3df3384ff1fcd05da9c0376c622a6c48bb5325f28ab165b57/stevedore-3.3.0-py3-none-any.whl (49kB)\n",
            "\u001b[K     |████████████████████████████████| 51kB 8.6MB/s \n",
            "\u001b[?25hRequirement already satisfied: PrettyTable>=0.7.2 in /usr/local/lib/python3.7/dist-packages (from cliff->optuna) (2.1.0)\n",
            "Requirement already satisfied: python-dateutil in /usr/local/lib/python3.7/dist-packages (from alembic->optuna) (2.8.1)\n",
            "Collecting python-editor>=0.3\n",
            "  Downloading https://files.pythonhosted.org/packages/c6/d3/201fc3abe391bbae6606e6f1d598c15d367033332bd54352b12f35513717/python_editor-1.0.4-py3-none-any.whl\n",
            "Collecting Mako\n",
            "\u001b[?25l  Downloading https://files.pythonhosted.org/packages/f3/54/dbc07fbb20865d3b78fdb7cf7fa713e2cba4f87f71100074ef2dc9f9d1f7/Mako-1.1.4-py2.py3-none-any.whl (75kB)\n",
            "\u001b[K     |████████████████████████████████| 81kB 9.7MB/s \n",
            "\u001b[?25hRequirement already satisfied: importlib-metadata; python_version < \"3.8\" in /usr/local/lib/python3.7/dist-packages (from sqlalchemy>=1.1.0->optuna) (4.0.1)\n",
            "Requirement already satisfied: greenlet!=0.4.17; python_version >= \"3\" in /usr/local/lib/python3.7/dist-packages (from sqlalchemy>=1.1.0->optuna) (1.1.0)\n",
            "Requirement already satisfied: attrs>=16.3.0 in /usr/local/lib/python3.7/dist-packages (from cmd2>=1.0.0->cliff->optuna) (21.2.0)\n",
            "Collecting pyperclip>=1.6\n",
            "  Downloading https://files.pythonhosted.org/packages/a7/2c/4c64579f847bd5d539803c8b909e54ba087a79d01bb3aba433a95879a6c5/pyperclip-1.8.2.tar.gz\n",
            "Collecting colorama>=0.3.7\n",
            "  Downloading https://files.pythonhosted.org/packages/44/98/5b86278fbbf250d239ae0ecb724f8572af1c91f4a11edf4d36a206189440/colorama-0.4.4-py2.py3-none-any.whl\n",
            "Requirement already satisfied: wcwidth>=0.1.7 in /usr/local/lib/python3.7/dist-packages (from cmd2>=1.0.0->cliff->optuna) (0.2.5)\n",
            "Requirement already satisfied: six>=1.5 in /usr/local/lib/python3.7/dist-packages (from python-dateutil->alembic->optuna) (1.15.0)\n",
            "Requirement already satisfied: MarkupSafe>=0.9.2 in /usr/local/lib/python3.7/dist-packages (from Mako->alembic->optuna) (2.0.1)\n",
            "Requirement already satisfied: zipp>=0.5 in /usr/local/lib/python3.7/dist-packages (from importlib-metadata; python_version < \"3.8\"->sqlalchemy>=1.1.0->optuna) (3.4.1)\n",
            "Requirement already satisfied: typing-extensions>=3.6.4; python_version < \"3.8\" in /usr/local/lib/python3.7/dist-packages (from importlib-metadata; python_version < \"3.8\"->sqlalchemy>=1.1.0->optuna) (3.7.4.3)\n",
            "Building wheels for collected packages: pyperclip\n",
            "  Building wheel for pyperclip (setup.py) ... \u001b[?25l\u001b[?25hdone\n",
            "  Created wheel for pyperclip: filename=pyperclip-1.8.2-cp37-none-any.whl size=11107 sha256=0c0ec05f4f6213862188d79e163a3ddf9ab745838a82148a744b7e5e36ccd059\n",
            "  Stored in directory: /root/.cache/pip/wheels/25/af/b8/3407109267803f4015e1ee2ff23be0c8c19ce4008665931ee1\n",
            "Successfully built pyperclip\n",
            "Installing collected packages: pbr, pyperclip, colorama, cmd2, stevedore, cliff, python-editor, Mako, alembic, colorlog, cmaes, optuna\n",
            "Successfully installed Mako-1.1.4 alembic-1.6.4 cliff-3.7.0 cmaes-0.8.2 cmd2-1.5.0 colorama-0.4.4 colorlog-5.0.1 optuna-2.7.0 pbr-5.6.0 pyperclip-1.8.2 python-editor-1.0.4 stevedore-3.3.0\n"
          ],
          "name": "stdout"
        }
      ]
    },
    {
      "cell_type": "code",
      "metadata": {
        "colab": {
          "base_uri": "https://localhost:8080/"
        },
        "id": "ktVy1ZVtwOMI",
        "outputId": "295cb38e-d919-46f6-cbe2-0f7eeba80137"
      },
      "source": [
        "from google.colab import drive\n",
        "drive.mount('/content/drive')"
      ],
      "execution_count": 2,
      "outputs": [
        {
          "output_type": "stream",
          "text": [
            "Mounted at /content/drive\n"
          ],
          "name": "stdout"
        }
      ]
    },
    {
      "cell_type": "code",
      "metadata": {
        "id": "qqUaUpf3wU1L"
      },
      "source": [
        "train = pd.read_csv('/content/drive/MyDrive/DACON/credit/train.csv')\n",
        "train = train.drop(['index'], axis=1)\n",
        "\n",
        "test = pd.read_csv('/content/drive/MyDrive/DACON/credit/test.csv')\n",
        "test = test.drop(['index'], axis=1)\n",
        "\n",
        "submit = pd.read_csv('/content/drive/MyDrive/DACON/credit/sample_submission.csv')"
      ],
      "execution_count": 3,
      "outputs": []
    },
    {
      "cell_type": "markdown",
      "metadata": {
        "id": "DAIqVKTaUzfh"
      },
      "source": [
        "## Data 전처리\n",
        "### occyp_type"
      ]
    },
    {
      "cell_type": "code",
      "metadata": {
        "id": "H3j0x2chz4YJ"
      },
      "source": [
        "def occyptype_pre(data):\n",
        "  data.loc[data[\"DAYS_EMPLOYED\"] >= 0,'occyp_type'] = \"No job\"\n",
        "  data[\"occyp_type\"] = data[\"occyp_type\"].fillna(\"unknown\")\n",
        "  return"
      ],
      "execution_count": 4,
      "outputs": []
    },
    {
      "cell_type": "code",
      "metadata": {
        "id": "eodQm2Tqz8Un"
      },
      "source": [
        "occyptype_pre(train)\n",
        "occyptype_pre(test)"
      ],
      "execution_count": 5,
      "outputs": []
    },
    {
      "cell_type": "markdown",
      "metadata": {
        "id": "aBieDIpA0Usn"
      },
      "source": [
        "### 빈도수 적은 data 처리"
      ]
    },
    {
      "cell_type": "code",
      "metadata": {
        "id": "An6vBtZR0FjR"
      },
      "source": [
        "# 빈도수가 적은 카테고리 확인(1% 기준)\n",
        "# staff 직군으로 묶기(빈도수가 낮은 집단이 모두 staff -> sales staff로 묶어서 진행해보자)\n",
        "def find_minority_cats(cat_cols, data_df, composite_category='Sales staff', threshold=0.03):\n",
        "    \"\"\" Find minority categories for each feature column, and create a \n",
        "        dictionary that maps those to selected composite category \"\"\"\n",
        "    minority_col_dict = {}\n",
        "    minority_mapping_dict = {}\n",
        "    \n",
        "    # find all feature categories with less than 1% proportion\n",
        "    for feature in cat_cols:\n",
        "        minority_col_dict[feature] = []\n",
        "        minority_mapping_dict[feature] = {}\n",
        "        \n",
        "        for category, proportion in data_df[feature].value_counts(normalize=True).iteritems():\n",
        "            if proportion < threshold:\n",
        "                minority_col_dict[feature].append(category)\n",
        "                \n",
        "                # map those minority cats to chosen composite feature\n",
        "                minority_mapping_dict[feature] = { x : composite_category for x \n",
        "                                                  in minority_col_dict[feature]}\n",
        "                \n",
        "    return minority_mapping_dict, minority_col_dict"
      ],
      "execution_count": 6,
      "outputs": []
    },
    {
      "cell_type": "code",
      "metadata": {
        "colab": {
          "base_uri": "https://localhost:8080/"
        },
        "id": "fY_a-_Zn0Z19",
        "outputId": "89a71bd3-226a-47d1-886d-5f171b0f8eef"
      },
      "source": [
        "cat_min_mappings, minority_cols = find_minority_cats([\"occyp_type\"], train)\n",
        "minority_cols"
      ],
      "execution_count": 7,
      "outputs": [
        {
          "output_type": "execute_result",
          "data": {
            "text/plain": [
              "{'occyp_type': ['Cooking staff',\n",
              "  'Security staff',\n",
              "  'Cleaning staff',\n",
              "  'Private service staff',\n",
              "  'Low-skill Laborers',\n",
              "  'Waiters/barmen staff',\n",
              "  'Secretaries',\n",
              "  'Realty agents',\n",
              "  'HR staff',\n",
              "  'IT staff']}"
            ]
          },
          "metadata": {
            "tags": []
          },
          "execution_count": 7
        }
      ]
    },
    {
      "cell_type": "code",
      "metadata": {
        "colab": {
          "base_uri": "https://localhost:8080/"
        },
        "id": "tAS48yfV1tpU",
        "outputId": "65ac04b1-3a03-4db4-8a83-d56058dbd019"
      },
      "source": [
        "cat_min_mappings"
      ],
      "execution_count": 8,
      "outputs": [
        {
          "output_type": "execute_result",
          "data": {
            "text/plain": [
              "{'occyp_type': {'Cleaning staff': 'Sales staff',\n",
              "  'Cooking staff': 'Sales staff',\n",
              "  'HR staff': 'Sales staff',\n",
              "  'IT staff': 'Sales staff',\n",
              "  'Low-skill Laborers': 'Sales staff',\n",
              "  'Private service staff': 'Sales staff',\n",
              "  'Realty agents': 'Sales staff',\n",
              "  'Secretaries': 'Sales staff',\n",
              "  'Security staff': 'Sales staff',\n",
              "  'Waiters/barmen staff': 'Sales staff'}}"
            ]
          },
          "metadata": {
            "tags": []
          },
          "execution_count": 8
        }
      ]
    },
    {
      "cell_type": "code",
      "metadata": {
        "id": "hr0145WN1iQX"
      },
      "source": [
        "train[\"occyp_type\"] = train[\"occyp_type\"].replace(cat_min_mappings[\"occyp_type\"])\n",
        "test[\"occyp_type\"] = test[\"occyp_type\"].replace(cat_min_mappings[\"occyp_type\"])"
      ],
      "execution_count": 9,
      "outputs": []
    },
    {
      "cell_type": "code",
      "metadata": {
        "id": "Dfdl170LQGxf"
      },
      "source": [
        "special_type = ['High skill tech staff','Medicine staff','Accountants']\n",
        "\n",
        "def specialist(data):\n",
        "  data.loc[data[\"occyp_type\"] == 'High skill tech staff','occyp_type'] = \"specialist\"\n",
        "  data.loc[data[\"occyp_type\"] == 'Medicine staff','occyp_type'] = \"specialist\"\n",
        "  data.loc[data[\"occyp_type\"] == 'Accountants','occyp_type'] = \"specialist\"\n",
        "\n",
        "  data[\"occyp_type\"] = data[\"occyp_type\"].fillna(\"unknown\")\n",
        "  return"
      ],
      "execution_count": 10,
      "outputs": []
    },
    {
      "cell_type": "code",
      "metadata": {
        "id": "cdsZQmzuQqI8"
      },
      "source": [
        "specialist(train)"
      ],
      "execution_count": 11,
      "outputs": []
    },
    {
      "cell_type": "code",
      "metadata": {
        "id": "mlduZ1RGRnqn"
      },
      "source": [
        "specialist(test)"
      ],
      "execution_count": 12,
      "outputs": []
    },
    {
      "cell_type": "code",
      "metadata": {
        "colab": {
          "base_uri": "https://localhost:8080/"
        },
        "id": "pBHu6Ps2I6Mk",
        "outputId": "3a87f1c0-2a0a-4ff2-d3c9-8416e6495fb5"
      },
      "source": [
        "train[\"occyp_type\"].unique()"
      ],
      "execution_count": 13,
      "outputs": [
        {
          "output_type": "execute_result",
          "data": {
            "text/plain": [
              "array(['unknown', 'Laborers', 'Managers', 'Sales staff', 'specialist',\n",
              "       'Core staff', 'Drivers', 'No job'], dtype=object)"
            ]
          },
          "metadata": {
            "tags": []
          },
          "execution_count": 13
        }
      ]
    },
    {
      "cell_type": "markdown",
      "metadata": {
        "id": "-VFxeBxqVd31"
      },
      "source": [
        "## Data 전처리\n",
        "### Feature selection"
      ]
    },
    {
      "cell_type": "code",
      "metadata": {
        "id": "GKRmdbbjVYBZ"
      },
      "source": [
        "train= train.drop(['child_num', 'FLAG_MOBIL', 'house_type', 'edu_type', 'gender', 'phone', 'email', 'family_type', 'family_size', 'car', 'work_phone'],axis=1)\n",
        "test= test.drop(['child_num', 'FLAG_MOBIL', 'house_type', 'edu_type', 'gender', 'phone', 'email', 'family_type', 'family_size', 'car', 'work_phone'],axis=1)"
      ],
      "execution_count": 14,
      "outputs": []
    },
    {
      "cell_type": "code",
      "metadata": {
        "colab": {
          "base_uri": "https://localhost:8080/"
        },
        "id": "7pUUqxgYVjNr",
        "outputId": "115e9e24-9489-46bd-b7a6-030f1c731234"
      },
      "source": [
        "train.count()"
      ],
      "execution_count": 15,
      "outputs": [
        {
          "output_type": "execute_result",
          "data": {
            "text/plain": [
              "reality          26457\n",
              "income_total     26457\n",
              "income_type      26457\n",
              "DAYS_BIRTH       26457\n",
              "DAYS_EMPLOYED    26457\n",
              "occyp_type       26457\n",
              "begin_month      26457\n",
              "credit           26457\n",
              "dtype: int64"
            ]
          },
          "metadata": {
            "tags": []
          },
          "execution_count": 15
        }
      ]
    },
    {
      "cell_type": "code",
      "metadata": {
        "id": "2ZKjrN-JDcX3"
      },
      "source": [
        "#Binary variables\n",
        "def binary(data):\n",
        "  print('Having house reality or not: ')\n",
        "  data['reality'] = data['reality'].replace(['N','Y'],[0,1])\n",
        "  print(data['reality'].value_counts())\n",
        "  print('--------------')\n"
      ],
      "execution_count": 17,
      "outputs": []
    },
    {
      "cell_type": "code",
      "metadata": {
        "colab": {
          "base_uri": "https://localhost:8080/"
        },
        "id": "6zNaX6_yDvMW",
        "outputId": "4f767c8d-98ca-48f2-fd9c-2430d45d4e7b"
      },
      "source": [
        "binary(train)"
      ],
      "execution_count": 18,
      "outputs": [
        {
          "output_type": "stream",
          "text": [
            "Having house reality or not: \n",
            "1    17830\n",
            "0     8627\n",
            "Name: reality, dtype: int64\n",
            "--------------\n"
          ],
          "name": "stdout"
        }
      ]
    },
    {
      "cell_type": "code",
      "metadata": {
        "colab": {
          "base_uri": "https://localhost:8080/"
        },
        "id": "zjsMZjNRDy7k",
        "outputId": "53489afa-6e7f-4168-f6e2-6f3c6e2b11d3"
      },
      "source": [
        "binary(test)"
      ],
      "execution_count": 19,
      "outputs": [
        {
          "output_type": "stream",
          "text": [
            "Having house reality or not: \n",
            "1    6676\n",
            "0    3324\n",
            "Name: reality, dtype: int64\n",
            "--------------\n"
          ],
          "name": "stdout"
        }
      ]
    },
    {
      "cell_type": "code",
      "metadata": {
        "id": "wd4S0MXH9Zg-"
      },
      "source": [
        "def preprocess(data):\n",
        "  label_encoder = LabelEncoder()\n",
        "  data['income_type']=label_encoder.fit_transform(data['income_type'])\n",
        "  data['occyp_type']=label_encoder.fit_transform(data['occyp_type'])\n",
        "  return"
      ],
      "execution_count": 20,
      "outputs": []
    },
    {
      "cell_type": "code",
      "metadata": {
        "id": "JeZoyD_dEQ8J"
      },
      "source": [
        "preprocess(train)\n",
        "preprocess(test)"
      ],
      "execution_count": 21,
      "outputs": []
    },
    {
      "cell_type": "code",
      "metadata": {
        "colab": {
          "base_uri": "https://localhost:8080/",
          "height": 402
        },
        "id": "58oP-NLctKDf",
        "outputId": "b4c71e23-2a6c-4ba9-effa-dace7e6f954e"
      },
      "source": [
        "train"
      ],
      "execution_count": 22,
      "outputs": [
        {
          "output_type": "execute_result",
          "data": {
            "text/html": [
              "<div>\n",
              "<style scoped>\n",
              "    .dataframe tbody tr th:only-of-type {\n",
              "        vertical-align: middle;\n",
              "    }\n",
              "\n",
              "    .dataframe tbody tr th {\n",
              "        vertical-align: top;\n",
              "    }\n",
              "\n",
              "    .dataframe thead th {\n",
              "        text-align: right;\n",
              "    }\n",
              "</style>\n",
              "<table border=\"1\" class=\"dataframe\">\n",
              "  <thead>\n",
              "    <tr style=\"text-align: right;\">\n",
              "      <th></th>\n",
              "      <th>reality</th>\n",
              "      <th>income_total</th>\n",
              "      <th>income_type</th>\n",
              "      <th>DAYS_BIRTH</th>\n",
              "      <th>DAYS_EMPLOYED</th>\n",
              "      <th>occyp_type</th>\n",
              "      <th>begin_month</th>\n",
              "      <th>credit</th>\n",
              "    </tr>\n",
              "  </thead>\n",
              "  <tbody>\n",
              "    <tr>\n",
              "      <th>0</th>\n",
              "      <td>0</td>\n",
              "      <td>202500.0</td>\n",
              "      <td>0</td>\n",
              "      <td>-13899</td>\n",
              "      <td>-4709</td>\n",
              "      <td>7</td>\n",
              "      <td>-6.0</td>\n",
              "      <td>1.0</td>\n",
              "    </tr>\n",
              "    <tr>\n",
              "      <th>1</th>\n",
              "      <td>1</td>\n",
              "      <td>247500.0</td>\n",
              "      <td>0</td>\n",
              "      <td>-11380</td>\n",
              "      <td>-1540</td>\n",
              "      <td>2</td>\n",
              "      <td>-5.0</td>\n",
              "      <td>1.0</td>\n",
              "    </tr>\n",
              "    <tr>\n",
              "      <th>2</th>\n",
              "      <td>1</td>\n",
              "      <td>450000.0</td>\n",
              "      <td>4</td>\n",
              "      <td>-19087</td>\n",
              "      <td>-4434</td>\n",
              "      <td>3</td>\n",
              "      <td>-22.0</td>\n",
              "      <td>2.0</td>\n",
              "    </tr>\n",
              "    <tr>\n",
              "      <th>3</th>\n",
              "      <td>1</td>\n",
              "      <td>202500.0</td>\n",
              "      <td>0</td>\n",
              "      <td>-15088</td>\n",
              "      <td>-2092</td>\n",
              "      <td>5</td>\n",
              "      <td>-37.0</td>\n",
              "      <td>0.0</td>\n",
              "    </tr>\n",
              "    <tr>\n",
              "      <th>4</th>\n",
              "      <td>1</td>\n",
              "      <td>157500.0</td>\n",
              "      <td>2</td>\n",
              "      <td>-15037</td>\n",
              "      <td>-2105</td>\n",
              "      <td>3</td>\n",
              "      <td>-26.0</td>\n",
              "      <td>2.0</td>\n",
              "    </tr>\n",
              "    <tr>\n",
              "      <th>...</th>\n",
              "      <td>...</td>\n",
              "      <td>...</td>\n",
              "      <td>...</td>\n",
              "      <td>...</td>\n",
              "      <td>...</td>\n",
              "      <td>...</td>\n",
              "      <td>...</td>\n",
              "      <td>...</td>\n",
              "    </tr>\n",
              "    <tr>\n",
              "      <th>26452</th>\n",
              "      <td>0</td>\n",
              "      <td>225000.0</td>\n",
              "      <td>2</td>\n",
              "      <td>-12079</td>\n",
              "      <td>-1984</td>\n",
              "      <td>0</td>\n",
              "      <td>-2.0</td>\n",
              "      <td>1.0</td>\n",
              "    </tr>\n",
              "    <tr>\n",
              "      <th>26453</th>\n",
              "      <td>1</td>\n",
              "      <td>180000.0</td>\n",
              "      <td>4</td>\n",
              "      <td>-15291</td>\n",
              "      <td>-2475</td>\n",
              "      <td>7</td>\n",
              "      <td>-47.0</td>\n",
              "      <td>2.0</td>\n",
              "    </tr>\n",
              "    <tr>\n",
              "      <th>26454</th>\n",
              "      <td>0</td>\n",
              "      <td>292500.0</td>\n",
              "      <td>4</td>\n",
              "      <td>-10082</td>\n",
              "      <td>-2015</td>\n",
              "      <td>0</td>\n",
              "      <td>-25.0</td>\n",
              "      <td>2.0</td>\n",
              "    </tr>\n",
              "    <tr>\n",
              "      <th>26455</th>\n",
              "      <td>1</td>\n",
              "      <td>171000.0</td>\n",
              "      <td>4</td>\n",
              "      <td>-10145</td>\n",
              "      <td>-107</td>\n",
              "      <td>2</td>\n",
              "      <td>-59.0</td>\n",
              "      <td>2.0</td>\n",
              "    </tr>\n",
              "    <tr>\n",
              "      <th>26456</th>\n",
              "      <td>0</td>\n",
              "      <td>81000.0</td>\n",
              "      <td>4</td>\n",
              "      <td>-19569</td>\n",
              "      <td>-1013</td>\n",
              "      <td>5</td>\n",
              "      <td>-9.0</td>\n",
              "      <td>2.0</td>\n",
              "    </tr>\n",
              "  </tbody>\n",
              "</table>\n",
              "<p>26457 rows × 8 columns</p>\n",
              "</div>"
            ],
            "text/plain": [
              "       reality  income_total  income_type  ...  occyp_type  begin_month  credit\n",
              "0            0      202500.0            0  ...           7         -6.0     1.0\n",
              "1            1      247500.0            0  ...           2         -5.0     1.0\n",
              "2            1      450000.0            4  ...           3        -22.0     2.0\n",
              "3            1      202500.0            0  ...           5        -37.0     0.0\n",
              "4            1      157500.0            2  ...           3        -26.0     2.0\n",
              "...        ...           ...          ...  ...         ...          ...     ...\n",
              "26452        0      225000.0            2  ...           0         -2.0     1.0\n",
              "26453        1      180000.0            4  ...           7        -47.0     2.0\n",
              "26454        0      292500.0            4  ...           0        -25.0     2.0\n",
              "26455        1      171000.0            4  ...           2        -59.0     2.0\n",
              "26456        0       81000.0            4  ...           5         -9.0     2.0\n",
              "\n",
              "[26457 rows x 8 columns]"
            ]
          },
          "metadata": {
            "tags": []
          },
          "execution_count": 22
        }
      ]
    },
    {
      "cell_type": "markdown",
      "metadata": {
        "id": "7lOmTSjaCUFx"
      },
      "source": [
        "### Normalization"
      ]
    },
    {
      "cell_type": "code",
      "metadata": {
        "id": "dgVcI9fTCTWC"
      },
      "source": [
        "continuos_variable = ['income_total','DAYS_BIRTH', 'DAYS_EMPLOYED','begin_month']\n",
        "train_continuos = train[continuos_variable]\n",
        "test_continuos = test[continuos_variable]\n",
        "train_continuos_copy = train[continuos_variable]\n",
        "test_continuos_copy = test[continuos_variable]"
      ],
      "execution_count": 23,
      "outputs": []
    },
    {
      "cell_type": "code",
      "metadata": {
        "colab": {
          "base_uri": "https://localhost:8080/"
        },
        "id": "FkH4ZNC5D6MH",
        "outputId": "6f09f37f-831e-4a34-982c-58dfca1bd67c"
      },
      "source": [
        "train_continuos_copy.columns"
      ],
      "execution_count": 24,
      "outputs": [
        {
          "output_type": "execute_result",
          "data": {
            "text/plain": [
              "Index(['income_total', 'DAYS_BIRTH', 'DAYS_EMPLOYED', 'begin_month'], dtype='object')"
            ]
          },
          "metadata": {
            "tags": []
          },
          "execution_count": 24
        }
      ]
    },
    {
      "cell_type": "code",
      "metadata": {
        "id": "yE0UqDgVCb1f"
      },
      "source": [
        "from sklearn.preprocessing import StandardScaler\n",
        "scaler = StandardScaler()\n",
        "scaler = scaler.fit(train_continuos)\n",
        "train_continuos_scaled = scaler.transform(train_continuos)\n",
        "test_continuos_scaled = scaler.transform(test_continuos)\n",
        "\n",
        "train_df_continuos_scaled = pd.DataFrame(train_continuos_scaled, columns=train_continuos_copy.columns, index=list(train_continuos_copy.index.values))\n",
        "test_df_continuos_scaled = pd.DataFrame(test_continuos_scaled, columns=test_continuos_copy.columns, index=list(test_continuos_copy.index.values))\n"
      ],
      "execution_count": 25,
      "outputs": []
    },
    {
      "cell_type": "code",
      "metadata": {
        "colab": {
          "base_uri": "https://localhost:8080/",
          "height": 402
        },
        "id": "C5YySbVKEGfL",
        "outputId": "124b5e86-cd13-4ab2-e692-bcc97d54a5a7"
      },
      "source": [
        "train_df_continuos_scaled"
      ],
      "execution_count": 26,
      "outputs": [
        {
          "output_type": "execute_result",
          "data": {
            "text/html": [
              "<div>\n",
              "<style scoped>\n",
              "    .dataframe tbody tr th:only-of-type {\n",
              "        vertical-align: middle;\n",
              "    }\n",
              "\n",
              "    .dataframe tbody tr th {\n",
              "        vertical-align: top;\n",
              "    }\n",
              "\n",
              "    .dataframe thead th {\n",
              "        text-align: right;\n",
              "    }\n",
              "</style>\n",
              "<table border=\"1\" class=\"dataframe\">\n",
              "  <thead>\n",
              "    <tr style=\"text-align: right;\">\n",
              "      <th></th>\n",
              "      <th>income_total</th>\n",
              "      <th>DAYS_BIRTH</th>\n",
              "      <th>DAYS_EMPLOYED</th>\n",
              "      <th>begin_month</th>\n",
              "    </tr>\n",
              "  </thead>\n",
              "  <tbody>\n",
              "    <tr>\n",
              "      <th>0</th>\n",
              "      <td>0.149136</td>\n",
              "      <td>0.490075</td>\n",
              "      <td>-0.463930</td>\n",
              "      <td>1.215231</td>\n",
              "    </tr>\n",
              "    <tr>\n",
              "      <th>1</th>\n",
              "      <td>0.590848</td>\n",
              "      <td>1.089621</td>\n",
              "      <td>-0.440878</td>\n",
              "      <td>1.275620</td>\n",
              "    </tr>\n",
              "    <tr>\n",
              "      <th>2</th>\n",
              "      <td>2.578550</td>\n",
              "      <td>-0.744719</td>\n",
              "      <td>-0.461929</td>\n",
              "      <td>0.249003</td>\n",
              "    </tr>\n",
              "    <tr>\n",
              "      <th>3</th>\n",
              "      <td>0.149136</td>\n",
              "      <td>0.207081</td>\n",
              "      <td>-0.444893</td>\n",
              "      <td>-0.656836</td>\n",
              "    </tr>\n",
              "    <tr>\n",
              "      <th>4</th>\n",
              "      <td>-0.292575</td>\n",
              "      <td>0.219220</td>\n",
              "      <td>-0.444988</td>\n",
              "      <td>0.007446</td>\n",
              "    </tr>\n",
              "    <tr>\n",
              "      <th>...</th>\n",
              "      <td>...</td>\n",
              "      <td>...</td>\n",
              "      <td>...</td>\n",
              "      <td>...</td>\n",
              "    </tr>\n",
              "    <tr>\n",
              "      <th>26452</th>\n",
              "      <td>0.369992</td>\n",
              "      <td>0.923252</td>\n",
              "      <td>-0.444108</td>\n",
              "      <td>1.456788</td>\n",
              "    </tr>\n",
              "    <tr>\n",
              "      <th>26453</th>\n",
              "      <td>-0.071719</td>\n",
              "      <td>0.158765</td>\n",
              "      <td>-0.447679</td>\n",
              "      <td>-1.260729</td>\n",
              "    </tr>\n",
              "    <tr>\n",
              "      <th>26454</th>\n",
              "      <td>1.032559</td>\n",
              "      <td>1.398558</td>\n",
              "      <td>-0.444333</td>\n",
              "      <td>0.067835</td>\n",
              "    </tr>\n",
              "    <tr>\n",
              "      <th>26455</th>\n",
              "      <td>-0.160062</td>\n",
              "      <td>1.383563</td>\n",
              "      <td>-0.430454</td>\n",
              "      <td>-1.985400</td>\n",
              "    </tr>\n",
              "    <tr>\n",
              "      <th>26456</th>\n",
              "      <td>-1.043485</td>\n",
              "      <td>-0.859440</td>\n",
              "      <td>-0.437045</td>\n",
              "      <td>1.034063</td>\n",
              "    </tr>\n",
              "  </tbody>\n",
              "</table>\n",
              "<p>26457 rows × 4 columns</p>\n",
              "</div>"
            ],
            "text/plain": [
              "       income_total  DAYS_BIRTH  DAYS_EMPLOYED  begin_month\n",
              "0          0.149136    0.490075      -0.463930     1.215231\n",
              "1          0.590848    1.089621      -0.440878     1.275620\n",
              "2          2.578550   -0.744719      -0.461929     0.249003\n",
              "3          0.149136    0.207081      -0.444893    -0.656836\n",
              "4         -0.292575    0.219220      -0.444988     0.007446\n",
              "...             ...         ...            ...          ...\n",
              "26452      0.369992    0.923252      -0.444108     1.456788\n",
              "26453     -0.071719    0.158765      -0.447679    -1.260729\n",
              "26454      1.032559    1.398558      -0.444333     0.067835\n",
              "26455     -0.160062    1.383563      -0.430454    -1.985400\n",
              "26456     -1.043485   -0.859440      -0.437045     1.034063\n",
              "\n",
              "[26457 rows x 4 columns]"
            ]
          },
          "metadata": {
            "tags": []
          },
          "execution_count": 26
        }
      ]
    },
    {
      "cell_type": "code",
      "metadata": {
        "id": "_-lH5hwhCdkm"
      },
      "source": [
        "train = train.drop(columns=continuos_variable)\n",
        "test = test.drop(columns=continuos_variable)\n",
        "train = pd.concat([train,train_df_continuos_scaled], axis = 1)\n",
        "test = pd.concat([test,test_df_continuos_scaled], axis = 1)"
      ],
      "execution_count": 27,
      "outputs": []
    },
    {
      "cell_type": "code",
      "metadata": {
        "colab": {
          "base_uri": "https://localhost:8080/",
          "height": 402
        },
        "id": "EMUQ_3cPEOav",
        "outputId": "77a63c47-b309-4410-fa13-4fc75463b905"
      },
      "source": [
        "train"
      ],
      "execution_count": 28,
      "outputs": [
        {
          "output_type": "execute_result",
          "data": {
            "text/html": [
              "<div>\n",
              "<style scoped>\n",
              "    .dataframe tbody tr th:only-of-type {\n",
              "        vertical-align: middle;\n",
              "    }\n",
              "\n",
              "    .dataframe tbody tr th {\n",
              "        vertical-align: top;\n",
              "    }\n",
              "\n",
              "    .dataframe thead th {\n",
              "        text-align: right;\n",
              "    }\n",
              "</style>\n",
              "<table border=\"1\" class=\"dataframe\">\n",
              "  <thead>\n",
              "    <tr style=\"text-align: right;\">\n",
              "      <th></th>\n",
              "      <th>reality</th>\n",
              "      <th>income_type</th>\n",
              "      <th>occyp_type</th>\n",
              "      <th>credit</th>\n",
              "      <th>income_total</th>\n",
              "      <th>DAYS_BIRTH</th>\n",
              "      <th>DAYS_EMPLOYED</th>\n",
              "      <th>begin_month</th>\n",
              "    </tr>\n",
              "  </thead>\n",
              "  <tbody>\n",
              "    <tr>\n",
              "      <th>0</th>\n",
              "      <td>0</td>\n",
              "      <td>0</td>\n",
              "      <td>7</td>\n",
              "      <td>1.0</td>\n",
              "      <td>0.149136</td>\n",
              "      <td>0.490075</td>\n",
              "      <td>-0.463930</td>\n",
              "      <td>1.215231</td>\n",
              "    </tr>\n",
              "    <tr>\n",
              "      <th>1</th>\n",
              "      <td>1</td>\n",
              "      <td>0</td>\n",
              "      <td>2</td>\n",
              "      <td>1.0</td>\n",
              "      <td>0.590848</td>\n",
              "      <td>1.089621</td>\n",
              "      <td>-0.440878</td>\n",
              "      <td>1.275620</td>\n",
              "    </tr>\n",
              "    <tr>\n",
              "      <th>2</th>\n",
              "      <td>1</td>\n",
              "      <td>4</td>\n",
              "      <td>3</td>\n",
              "      <td>2.0</td>\n",
              "      <td>2.578550</td>\n",
              "      <td>-0.744719</td>\n",
              "      <td>-0.461929</td>\n",
              "      <td>0.249003</td>\n",
              "    </tr>\n",
              "    <tr>\n",
              "      <th>3</th>\n",
              "      <td>1</td>\n",
              "      <td>0</td>\n",
              "      <td>5</td>\n",
              "      <td>0.0</td>\n",
              "      <td>0.149136</td>\n",
              "      <td>0.207081</td>\n",
              "      <td>-0.444893</td>\n",
              "      <td>-0.656836</td>\n",
              "    </tr>\n",
              "    <tr>\n",
              "      <th>4</th>\n",
              "      <td>1</td>\n",
              "      <td>2</td>\n",
              "      <td>3</td>\n",
              "      <td>2.0</td>\n",
              "      <td>-0.292575</td>\n",
              "      <td>0.219220</td>\n",
              "      <td>-0.444988</td>\n",
              "      <td>0.007446</td>\n",
              "    </tr>\n",
              "    <tr>\n",
              "      <th>...</th>\n",
              "      <td>...</td>\n",
              "      <td>...</td>\n",
              "      <td>...</td>\n",
              "      <td>...</td>\n",
              "      <td>...</td>\n",
              "      <td>...</td>\n",
              "      <td>...</td>\n",
              "      <td>...</td>\n",
              "    </tr>\n",
              "    <tr>\n",
              "      <th>26452</th>\n",
              "      <td>0</td>\n",
              "      <td>2</td>\n",
              "      <td>0</td>\n",
              "      <td>1.0</td>\n",
              "      <td>0.369992</td>\n",
              "      <td>0.923252</td>\n",
              "      <td>-0.444108</td>\n",
              "      <td>1.456788</td>\n",
              "    </tr>\n",
              "    <tr>\n",
              "      <th>26453</th>\n",
              "      <td>1</td>\n",
              "      <td>4</td>\n",
              "      <td>7</td>\n",
              "      <td>2.0</td>\n",
              "      <td>-0.071719</td>\n",
              "      <td>0.158765</td>\n",
              "      <td>-0.447679</td>\n",
              "      <td>-1.260729</td>\n",
              "    </tr>\n",
              "    <tr>\n",
              "      <th>26454</th>\n",
              "      <td>0</td>\n",
              "      <td>4</td>\n",
              "      <td>0</td>\n",
              "      <td>2.0</td>\n",
              "      <td>1.032559</td>\n",
              "      <td>1.398558</td>\n",
              "      <td>-0.444333</td>\n",
              "      <td>0.067835</td>\n",
              "    </tr>\n",
              "    <tr>\n",
              "      <th>26455</th>\n",
              "      <td>1</td>\n",
              "      <td>4</td>\n",
              "      <td>2</td>\n",
              "      <td>2.0</td>\n",
              "      <td>-0.160062</td>\n",
              "      <td>1.383563</td>\n",
              "      <td>-0.430454</td>\n",
              "      <td>-1.985400</td>\n",
              "    </tr>\n",
              "    <tr>\n",
              "      <th>26456</th>\n",
              "      <td>0</td>\n",
              "      <td>4</td>\n",
              "      <td>5</td>\n",
              "      <td>2.0</td>\n",
              "      <td>-1.043485</td>\n",
              "      <td>-0.859440</td>\n",
              "      <td>-0.437045</td>\n",
              "      <td>1.034063</td>\n",
              "    </tr>\n",
              "  </tbody>\n",
              "</table>\n",
              "<p>26457 rows × 8 columns</p>\n",
              "</div>"
            ],
            "text/plain": [
              "       reality  income_type  occyp_type  ...  DAYS_BIRTH  DAYS_EMPLOYED  begin_month\n",
              "0            0            0           7  ...    0.490075      -0.463930     1.215231\n",
              "1            1            0           2  ...    1.089621      -0.440878     1.275620\n",
              "2            1            4           3  ...   -0.744719      -0.461929     0.249003\n",
              "3            1            0           5  ...    0.207081      -0.444893    -0.656836\n",
              "4            1            2           3  ...    0.219220      -0.444988     0.007446\n",
              "...        ...          ...         ...  ...         ...            ...          ...\n",
              "26452        0            2           0  ...    0.923252      -0.444108     1.456788\n",
              "26453        1            4           7  ...    0.158765      -0.447679    -1.260729\n",
              "26454        0            4           0  ...    1.398558      -0.444333     0.067835\n",
              "26455        1            4           2  ...    1.383563      -0.430454    -1.985400\n",
              "26456        0            4           5  ...   -0.859440      -0.437045     1.034063\n",
              "\n",
              "[26457 rows x 8 columns]"
            ]
          },
          "metadata": {
            "tags": []
          },
          "execution_count": 28
        }
      ]
    },
    {
      "cell_type": "code",
      "metadata": {
        "colab": {
          "base_uri": "https://localhost:8080/",
          "height": 402
        },
        "id": "LEJWlj8ZCgil",
        "outputId": "66a3a55f-7d3a-444c-8997-26fcdafbd175"
      },
      "source": [
        "test"
      ],
      "execution_count": 29,
      "outputs": [
        {
          "output_type": "execute_result",
          "data": {
            "text/html": [
              "<div>\n",
              "<style scoped>\n",
              "    .dataframe tbody tr th:only-of-type {\n",
              "        vertical-align: middle;\n",
              "    }\n",
              "\n",
              "    .dataframe tbody tr th {\n",
              "        vertical-align: top;\n",
              "    }\n",
              "\n",
              "    .dataframe thead th {\n",
              "        text-align: right;\n",
              "    }\n",
              "</style>\n",
              "<table border=\"1\" class=\"dataframe\">\n",
              "  <thead>\n",
              "    <tr style=\"text-align: right;\">\n",
              "      <th></th>\n",
              "      <th>reality</th>\n",
              "      <th>income_type</th>\n",
              "      <th>occyp_type</th>\n",
              "      <th>income_total</th>\n",
              "      <th>DAYS_BIRTH</th>\n",
              "      <th>DAYS_EMPLOYED</th>\n",
              "      <th>begin_month</th>\n",
              "    </tr>\n",
              "  </thead>\n",
              "  <tbody>\n",
              "    <tr>\n",
              "      <th>0</th>\n",
              "      <td>0</td>\n",
              "      <td>1</td>\n",
              "      <td>4</td>\n",
              "      <td>-0.734287</td>\n",
              "      <td>-1.435662</td>\n",
              "      <td>2.227162</td>\n",
              "      <td>-2.045789</td>\n",
              "    </tr>\n",
              "    <tr>\n",
              "      <th>1</th>\n",
              "      <td>1</td>\n",
              "      <td>2</td>\n",
              "      <td>0</td>\n",
              "      <td>-0.513431</td>\n",
              "      <td>-0.715444</td>\n",
              "      <td>-0.492750</td>\n",
              "      <td>-0.596447</td>\n",
              "    </tr>\n",
              "    <tr>\n",
              "      <th>2</th>\n",
              "      <td>1</td>\n",
              "      <td>4</td>\n",
              "      <td>2</td>\n",
              "      <td>-1.157623</td>\n",
              "      <td>0.016912</td>\n",
              "      <td>-0.431254</td>\n",
              "      <td>-0.838004</td>\n",
              "    </tr>\n",
              "    <tr>\n",
              "      <th>3</th>\n",
              "      <td>0</td>\n",
              "      <td>0</td>\n",
              "      <td>1</td>\n",
              "      <td>-0.734287</td>\n",
              "      <td>-0.788275</td>\n",
              "      <td>-0.448087</td>\n",
              "      <td>-0.898393</td>\n",
              "    </tr>\n",
              "    <tr>\n",
              "      <th>4</th>\n",
              "      <td>1</td>\n",
              "      <td>2</td>\n",
              "      <td>3</td>\n",
              "      <td>0.369992</td>\n",
              "      <td>-0.443637</td>\n",
              "      <td>-0.497944</td>\n",
              "      <td>1.094452</td>\n",
              "    </tr>\n",
              "    <tr>\n",
              "      <th>...</th>\n",
              "      <td>...</td>\n",
              "      <td>...</td>\n",
              "      <td>...</td>\n",
              "      <td>...</td>\n",
              "      <td>...</td>\n",
              "      <td>...</td>\n",
              "      <td>...</td>\n",
              "    </tr>\n",
              "    <tr>\n",
              "      <th>9995</th>\n",
              "      <td>1</td>\n",
              "      <td>4</td>\n",
              "      <td>6</td>\n",
              "      <td>0.149136</td>\n",
              "      <td>-0.627143</td>\n",
              "      <td>-0.469204</td>\n",
              "      <td>0.430170</td>\n",
              "    </tr>\n",
              "    <tr>\n",
              "      <th>9996</th>\n",
              "      <td>1</td>\n",
              "      <td>4</td>\n",
              "      <td>2</td>\n",
              "      <td>0.149136</td>\n",
              "      <td>1.207198</td>\n",
              "      <td>-0.439241</td>\n",
              "      <td>-0.475668</td>\n",
              "    </tr>\n",
              "    <tr>\n",
              "      <th>9997</th>\n",
              "      <td>1</td>\n",
              "      <td>4</td>\n",
              "      <td>6</td>\n",
              "      <td>1.032559</td>\n",
              "      <td>-1.203840</td>\n",
              "      <td>-0.531645</td>\n",
              "      <td>-1.743843</td>\n",
              "    </tr>\n",
              "    <tr>\n",
              "      <th>9998</th>\n",
              "      <td>0</td>\n",
              "      <td>0</td>\n",
              "      <td>7</td>\n",
              "      <td>-0.071719</td>\n",
              "      <td>-0.138747</td>\n",
              "      <td>-0.437568</td>\n",
              "      <td>-0.415279</td>\n",
              "    </tr>\n",
              "    <tr>\n",
              "      <th>9999</th>\n",
              "      <td>1</td>\n",
              "      <td>4</td>\n",
              "      <td>2</td>\n",
              "      <td>0.811704</td>\n",
              "      <td>1.619431</td>\n",
              "      <td>-0.431036</td>\n",
              "      <td>0.913284</td>\n",
              "    </tr>\n",
              "  </tbody>\n",
              "</table>\n",
              "<p>10000 rows × 7 columns</p>\n",
              "</div>"
            ],
            "text/plain": [
              "      reality  income_type  occyp_type  ...  DAYS_BIRTH  DAYS_EMPLOYED  begin_month\n",
              "0           0            1           4  ...   -1.435662       2.227162    -2.045789\n",
              "1           1            2           0  ...   -0.715444      -0.492750    -0.596447\n",
              "2           1            4           2  ...    0.016912      -0.431254    -0.838004\n",
              "3           0            0           1  ...   -0.788275      -0.448087    -0.898393\n",
              "4           1            2           3  ...   -0.443637      -0.497944     1.094452\n",
              "...       ...          ...         ...  ...         ...            ...          ...\n",
              "9995        1            4           6  ...   -0.627143      -0.469204     0.430170\n",
              "9996        1            4           2  ...    1.207198      -0.439241    -0.475668\n",
              "9997        1            4           6  ...   -1.203840      -0.531645    -1.743843\n",
              "9998        0            0           7  ...   -0.138747      -0.437568    -0.415279\n",
              "9999        1            4           2  ...    1.619431      -0.431036     0.913284\n",
              "\n",
              "[10000 rows x 7 columns]"
            ]
          },
          "metadata": {
            "tags": []
          },
          "execution_count": 29
        }
      ]
    },
    {
      "cell_type": "code",
      "metadata": {
        "id": "0goOjVSIMLTp"
      },
      "source": [
        "train = train.reindex(['reality',\t'income_total',\t'income_type',\t'DAYS_BIRTH',\t'DAYS_EMPLOYED',\t'occyp_type',\t'begin_month', \t'credit'], axis=1)\n",
        "test = test.reindex(['reality',\t'income_total',\t'income_type',\t'DAYS_BIRTH',\t'DAYS_EMPLOYED',\t'occyp_type',\t'begin_month'], axis=1)"
      ],
      "execution_count": 30,
      "outputs": []
    },
    {
      "cell_type": "code",
      "metadata": {
        "colab": {
          "base_uri": "https://localhost:8080/",
          "height": 402
        },
        "id": "_pS9kS-KQe1L",
        "outputId": "c397f204-2fbe-4a3f-8595-6c3ba0afcd05"
      },
      "source": [
        "train"
      ],
      "execution_count": 31,
      "outputs": [
        {
          "output_type": "execute_result",
          "data": {
            "text/html": [
              "<div>\n",
              "<style scoped>\n",
              "    .dataframe tbody tr th:only-of-type {\n",
              "        vertical-align: middle;\n",
              "    }\n",
              "\n",
              "    .dataframe tbody tr th {\n",
              "        vertical-align: top;\n",
              "    }\n",
              "\n",
              "    .dataframe thead th {\n",
              "        text-align: right;\n",
              "    }\n",
              "</style>\n",
              "<table border=\"1\" class=\"dataframe\">\n",
              "  <thead>\n",
              "    <tr style=\"text-align: right;\">\n",
              "      <th></th>\n",
              "      <th>reality</th>\n",
              "      <th>income_total</th>\n",
              "      <th>income_type</th>\n",
              "      <th>DAYS_BIRTH</th>\n",
              "      <th>DAYS_EMPLOYED</th>\n",
              "      <th>occyp_type</th>\n",
              "      <th>begin_month</th>\n",
              "      <th>credit</th>\n",
              "    </tr>\n",
              "  </thead>\n",
              "  <tbody>\n",
              "    <tr>\n",
              "      <th>0</th>\n",
              "      <td>0</td>\n",
              "      <td>0.149136</td>\n",
              "      <td>0</td>\n",
              "      <td>0.490075</td>\n",
              "      <td>-0.463930</td>\n",
              "      <td>7</td>\n",
              "      <td>1.215231</td>\n",
              "      <td>1.0</td>\n",
              "    </tr>\n",
              "    <tr>\n",
              "      <th>1</th>\n",
              "      <td>1</td>\n",
              "      <td>0.590848</td>\n",
              "      <td>0</td>\n",
              "      <td>1.089621</td>\n",
              "      <td>-0.440878</td>\n",
              "      <td>2</td>\n",
              "      <td>1.275620</td>\n",
              "      <td>1.0</td>\n",
              "    </tr>\n",
              "    <tr>\n",
              "      <th>2</th>\n",
              "      <td>1</td>\n",
              "      <td>2.578550</td>\n",
              "      <td>4</td>\n",
              "      <td>-0.744719</td>\n",
              "      <td>-0.461929</td>\n",
              "      <td>3</td>\n",
              "      <td>0.249003</td>\n",
              "      <td>2.0</td>\n",
              "    </tr>\n",
              "    <tr>\n",
              "      <th>3</th>\n",
              "      <td>1</td>\n",
              "      <td>0.149136</td>\n",
              "      <td>0</td>\n",
              "      <td>0.207081</td>\n",
              "      <td>-0.444893</td>\n",
              "      <td>5</td>\n",
              "      <td>-0.656836</td>\n",
              "      <td>0.0</td>\n",
              "    </tr>\n",
              "    <tr>\n",
              "      <th>4</th>\n",
              "      <td>1</td>\n",
              "      <td>-0.292575</td>\n",
              "      <td>2</td>\n",
              "      <td>0.219220</td>\n",
              "      <td>-0.444988</td>\n",
              "      <td>3</td>\n",
              "      <td>0.007446</td>\n",
              "      <td>2.0</td>\n",
              "    </tr>\n",
              "    <tr>\n",
              "      <th>...</th>\n",
              "      <td>...</td>\n",
              "      <td>...</td>\n",
              "      <td>...</td>\n",
              "      <td>...</td>\n",
              "      <td>...</td>\n",
              "      <td>...</td>\n",
              "      <td>...</td>\n",
              "      <td>...</td>\n",
              "    </tr>\n",
              "    <tr>\n",
              "      <th>26452</th>\n",
              "      <td>0</td>\n",
              "      <td>0.369992</td>\n",
              "      <td>2</td>\n",
              "      <td>0.923252</td>\n",
              "      <td>-0.444108</td>\n",
              "      <td>0</td>\n",
              "      <td>1.456788</td>\n",
              "      <td>1.0</td>\n",
              "    </tr>\n",
              "    <tr>\n",
              "      <th>26453</th>\n",
              "      <td>1</td>\n",
              "      <td>-0.071719</td>\n",
              "      <td>4</td>\n",
              "      <td>0.158765</td>\n",
              "      <td>-0.447679</td>\n",
              "      <td>7</td>\n",
              "      <td>-1.260729</td>\n",
              "      <td>2.0</td>\n",
              "    </tr>\n",
              "    <tr>\n",
              "      <th>26454</th>\n",
              "      <td>0</td>\n",
              "      <td>1.032559</td>\n",
              "      <td>4</td>\n",
              "      <td>1.398558</td>\n",
              "      <td>-0.444333</td>\n",
              "      <td>0</td>\n",
              "      <td>0.067835</td>\n",
              "      <td>2.0</td>\n",
              "    </tr>\n",
              "    <tr>\n",
              "      <th>26455</th>\n",
              "      <td>1</td>\n",
              "      <td>-0.160062</td>\n",
              "      <td>4</td>\n",
              "      <td>1.383563</td>\n",
              "      <td>-0.430454</td>\n",
              "      <td>2</td>\n",
              "      <td>-1.985400</td>\n",
              "      <td>2.0</td>\n",
              "    </tr>\n",
              "    <tr>\n",
              "      <th>26456</th>\n",
              "      <td>0</td>\n",
              "      <td>-1.043485</td>\n",
              "      <td>4</td>\n",
              "      <td>-0.859440</td>\n",
              "      <td>-0.437045</td>\n",
              "      <td>5</td>\n",
              "      <td>1.034063</td>\n",
              "      <td>2.0</td>\n",
              "    </tr>\n",
              "  </tbody>\n",
              "</table>\n",
              "<p>26457 rows × 8 columns</p>\n",
              "</div>"
            ],
            "text/plain": [
              "       reality  income_total  income_type  ...  occyp_type  begin_month  credit\n",
              "0            0      0.149136            0  ...           7     1.215231     1.0\n",
              "1            1      0.590848            0  ...           2     1.275620     1.0\n",
              "2            1      2.578550            4  ...           3     0.249003     2.0\n",
              "3            1      0.149136            0  ...           5    -0.656836     0.0\n",
              "4            1     -0.292575            2  ...           3     0.007446     2.0\n",
              "...        ...           ...          ...  ...         ...          ...     ...\n",
              "26452        0      0.369992            2  ...           0     1.456788     1.0\n",
              "26453        1     -0.071719            4  ...           7    -1.260729     2.0\n",
              "26454        0      1.032559            4  ...           0     0.067835     2.0\n",
              "26455        1     -0.160062            4  ...           2    -1.985400     2.0\n",
              "26456        0     -1.043485            4  ...           5     1.034063     2.0\n",
              "\n",
              "[26457 rows x 8 columns]"
            ]
          },
          "metadata": {
            "tags": []
          },
          "execution_count": 31
        }
      ]
    },
    {
      "cell_type": "code",
      "metadata": {
        "colab": {
          "base_uri": "https://localhost:8080/",
          "height": 402
        },
        "id": "HQKJY50wM4M7",
        "outputId": "5d449295-c29e-4189-e0ca-ece435aba50c"
      },
      "source": [
        "test"
      ],
      "execution_count": 32,
      "outputs": [
        {
          "output_type": "execute_result",
          "data": {
            "text/html": [
              "<div>\n",
              "<style scoped>\n",
              "    .dataframe tbody tr th:only-of-type {\n",
              "        vertical-align: middle;\n",
              "    }\n",
              "\n",
              "    .dataframe tbody tr th {\n",
              "        vertical-align: top;\n",
              "    }\n",
              "\n",
              "    .dataframe thead th {\n",
              "        text-align: right;\n",
              "    }\n",
              "</style>\n",
              "<table border=\"1\" class=\"dataframe\">\n",
              "  <thead>\n",
              "    <tr style=\"text-align: right;\">\n",
              "      <th></th>\n",
              "      <th>reality</th>\n",
              "      <th>income_total</th>\n",
              "      <th>income_type</th>\n",
              "      <th>DAYS_BIRTH</th>\n",
              "      <th>DAYS_EMPLOYED</th>\n",
              "      <th>occyp_type</th>\n",
              "      <th>begin_month</th>\n",
              "    </tr>\n",
              "  </thead>\n",
              "  <tbody>\n",
              "    <tr>\n",
              "      <th>0</th>\n",
              "      <td>0</td>\n",
              "      <td>-0.734287</td>\n",
              "      <td>1</td>\n",
              "      <td>-1.435662</td>\n",
              "      <td>2.227162</td>\n",
              "      <td>4</td>\n",
              "      <td>-2.045789</td>\n",
              "    </tr>\n",
              "    <tr>\n",
              "      <th>1</th>\n",
              "      <td>1</td>\n",
              "      <td>-0.513431</td>\n",
              "      <td>2</td>\n",
              "      <td>-0.715444</td>\n",
              "      <td>-0.492750</td>\n",
              "      <td>0</td>\n",
              "      <td>-0.596447</td>\n",
              "    </tr>\n",
              "    <tr>\n",
              "      <th>2</th>\n",
              "      <td>1</td>\n",
              "      <td>-1.157623</td>\n",
              "      <td>4</td>\n",
              "      <td>0.016912</td>\n",
              "      <td>-0.431254</td>\n",
              "      <td>2</td>\n",
              "      <td>-0.838004</td>\n",
              "    </tr>\n",
              "    <tr>\n",
              "      <th>3</th>\n",
              "      <td>0</td>\n",
              "      <td>-0.734287</td>\n",
              "      <td>0</td>\n",
              "      <td>-0.788275</td>\n",
              "      <td>-0.448087</td>\n",
              "      <td>1</td>\n",
              "      <td>-0.898393</td>\n",
              "    </tr>\n",
              "    <tr>\n",
              "      <th>4</th>\n",
              "      <td>1</td>\n",
              "      <td>0.369992</td>\n",
              "      <td>2</td>\n",
              "      <td>-0.443637</td>\n",
              "      <td>-0.497944</td>\n",
              "      <td>3</td>\n",
              "      <td>1.094452</td>\n",
              "    </tr>\n",
              "    <tr>\n",
              "      <th>...</th>\n",
              "      <td>...</td>\n",
              "      <td>...</td>\n",
              "      <td>...</td>\n",
              "      <td>...</td>\n",
              "      <td>...</td>\n",
              "      <td>...</td>\n",
              "      <td>...</td>\n",
              "    </tr>\n",
              "    <tr>\n",
              "      <th>9995</th>\n",
              "      <td>1</td>\n",
              "      <td>0.149136</td>\n",
              "      <td>4</td>\n",
              "      <td>-0.627143</td>\n",
              "      <td>-0.469204</td>\n",
              "      <td>6</td>\n",
              "      <td>0.430170</td>\n",
              "    </tr>\n",
              "    <tr>\n",
              "      <th>9996</th>\n",
              "      <td>1</td>\n",
              "      <td>0.149136</td>\n",
              "      <td>4</td>\n",
              "      <td>1.207198</td>\n",
              "      <td>-0.439241</td>\n",
              "      <td>2</td>\n",
              "      <td>-0.475668</td>\n",
              "    </tr>\n",
              "    <tr>\n",
              "      <th>9997</th>\n",
              "      <td>1</td>\n",
              "      <td>1.032559</td>\n",
              "      <td>4</td>\n",
              "      <td>-1.203840</td>\n",
              "      <td>-0.531645</td>\n",
              "      <td>6</td>\n",
              "      <td>-1.743843</td>\n",
              "    </tr>\n",
              "    <tr>\n",
              "      <th>9998</th>\n",
              "      <td>0</td>\n",
              "      <td>-0.071719</td>\n",
              "      <td>0</td>\n",
              "      <td>-0.138747</td>\n",
              "      <td>-0.437568</td>\n",
              "      <td>7</td>\n",
              "      <td>-0.415279</td>\n",
              "    </tr>\n",
              "    <tr>\n",
              "      <th>9999</th>\n",
              "      <td>1</td>\n",
              "      <td>0.811704</td>\n",
              "      <td>4</td>\n",
              "      <td>1.619431</td>\n",
              "      <td>-0.431036</td>\n",
              "      <td>2</td>\n",
              "      <td>0.913284</td>\n",
              "    </tr>\n",
              "  </tbody>\n",
              "</table>\n",
              "<p>10000 rows × 7 columns</p>\n",
              "</div>"
            ],
            "text/plain": [
              "      reality  income_total  ...  occyp_type  begin_month\n",
              "0           0     -0.734287  ...           4    -2.045789\n",
              "1           1     -0.513431  ...           0    -0.596447\n",
              "2           1     -1.157623  ...           2    -0.838004\n",
              "3           0     -0.734287  ...           1    -0.898393\n",
              "4           1      0.369992  ...           3     1.094452\n",
              "...       ...           ...  ...         ...          ...\n",
              "9995        1      0.149136  ...           6     0.430170\n",
              "9996        1      0.149136  ...           2    -0.475668\n",
              "9997        1      1.032559  ...           6    -1.743843\n",
              "9998        0     -0.071719  ...           7    -0.415279\n",
              "9999        1      0.811704  ...           2     0.913284\n",
              "\n",
              "[10000 rows x 7 columns]"
            ]
          },
          "metadata": {
            "tags": []
          },
          "execution_count": 32
        }
      ]
    },
    {
      "cell_type": "code",
      "metadata": {
        "id": "mbUWy72M-cgs"
      },
      "source": [
        "X=train.drop('credit',axis=1)\n",
        "y=train['credit']"
      ],
      "execution_count": 33,
      "outputs": []
    },
    {
      "cell_type": "markdown",
      "metadata": {
        "id": "m2whG1XcUb1E"
      },
      "source": [
        ""
      ]
    },
    {
      "cell_type": "code",
      "metadata": {
        "id": "qKNlbmNIFOEb"
      },
      "source": [
        "def objective(trial,train=train,target=y):\n",
        "\n",
        "  X_train,X_test,y_train,y_test=train_test_split(X,y,test_size=0.2,random_state=2)\n",
        "\n",
        "  param={\n",
        "      'max_depth':trial.suggest_int('max_depth',25,30),\n",
        "      'learning_rate':0.03,\n",
        "      'subsample':trial.suggest_categorical('subsample',[0.5,0.6,0.7,0.8,0.9]),\n",
        "      'colsample_bytree':trial.suggest_categorical('colsample_bytree',[0.5,0.6,0.7,0.8,0.9]),\n",
        "      'eval_metric': 'mlogloss',\n",
        "      'objective' : 'multi:softprob',\n",
        "      'random_state': 42,\n",
        "      'n_estimators': 1000,\n",
        "  }\n",
        "\n",
        "  model=XGBClassifier(**param)\n",
        "\n",
        "  model.fit(X_train,y_train,eval_set=[(X_test,y_test)],early_stopping_rounds=30,verbose=False)\n",
        "\n",
        "  predictions=model.predict_proba(X_test)\n",
        "\n",
        "  logloss = log_loss(y_test,predictions)\n",
        "  return logloss"
      ],
      "execution_count": 37,
      "outputs": []
    },
    {
      "cell_type": "code",
      "metadata": {
        "colab": {
          "base_uri": "https://localhost:8080/"
        },
        "id": "cR-Z3ZVcF5OZ",
        "outputId": "3ae947b4-3426-4661-f297-7948c9b8b806"
      },
      "source": [
        "study = optuna.create_study(direction='minimize')\n",
        "study.optimize(objective, n_trials=50)\n",
        "study.best_params"
      ],
      "execution_count": 38,
      "outputs": [
        {
          "output_type": "stream",
          "text": [
            "\u001b[32m[I 2021-05-26 01:04:27,515]\u001b[0m A new study created in memory with name: no-name-86c6f15e-417b-4999-8835-479bf38be100\u001b[0m\n",
            "\u001b[32m[I 2021-05-26 01:04:52,828]\u001b[0m Trial 0 finished with value: 0.7089193310428098 and parameters: {'max_depth': 26, 'subsample': 0.5, 'colsample_bytree': 0.5}. Best is trial 0 with value: 0.7089193310428098.\u001b[0m\n",
            "\u001b[32m[I 2021-05-26 01:05:17,540]\u001b[0m Trial 1 finished with value: 0.712405888484094 and parameters: {'max_depth': 25, 'subsample': 0.6, 'colsample_bytree': 0.6}. Best is trial 0 with value: 0.7089193310428098.\u001b[0m\n",
            "\u001b[32m[I 2021-05-26 01:05:47,011]\u001b[0m Trial 2 finished with value: 0.7239958666671893 and parameters: {'max_depth': 28, 'subsample': 0.5, 'colsample_bytree': 0.9}. Best is trial 0 with value: 0.7089193310428098.\u001b[0m\n",
            "\u001b[32m[I 2021-05-26 01:06:15,315]\u001b[0m Trial 3 finished with value: 0.7290743253998407 and parameters: {'max_depth': 29, 'subsample': 0.8, 'colsample_bytree': 0.9}. Best is trial 0 with value: 0.7089193310428098.\u001b[0m\n",
            "\u001b[32m[I 2021-05-26 01:06:38,632]\u001b[0m Trial 4 finished with value: 0.7114290886742323 and parameters: {'max_depth': 26, 'subsample': 0.9, 'colsample_bytree': 0.6}. Best is trial 0 with value: 0.7089193310428098.\u001b[0m\n",
            "\u001b[32m[I 2021-05-26 01:07:02,098]\u001b[0m Trial 5 finished with value: 0.7116791748153841 and parameters: {'max_depth': 26, 'subsample': 0.8, 'colsample_bytree': 0.6}. Best is trial 0 with value: 0.7089193310428098.\u001b[0m\n",
            "\u001b[32m[I 2021-05-26 01:07:26,944]\u001b[0m Trial 6 finished with value: 0.7176121757777573 and parameters: {'max_depth': 25, 'subsample': 0.9, 'colsample_bytree': 0.8}. Best is trial 0 with value: 0.7089193310428098.\u001b[0m\n",
            "\u001b[32m[I 2021-05-26 01:07:51,161]\u001b[0m Trial 7 finished with value: 0.7183588552059929 and parameters: {'max_depth': 28, 'subsample': 0.9, 'colsample_bytree': 0.8}. Best is trial 0 with value: 0.7089193310428098.\u001b[0m\n",
            "\u001b[32m[I 2021-05-26 01:08:17,589]\u001b[0m Trial 8 finished with value: 0.7171238279455846 and parameters: {'max_depth': 27, 'subsample': 0.8, 'colsample_bytree': 0.8}. Best is trial 0 with value: 0.7089193310428098.\u001b[0m\n",
            "\u001b[32m[I 2021-05-26 01:08:44,734]\u001b[0m Trial 9 finished with value: 0.7144726089477111 and parameters: {'max_depth': 28, 'subsample': 0.6, 'colsample_bytree': 0.8}. Best is trial 0 with value: 0.7089193310428098.\u001b[0m\n",
            "\u001b[32m[I 2021-05-26 01:09:08,728]\u001b[0m Trial 10 finished with value: 0.7077364899036463 and parameters: {'max_depth': 30, 'subsample': 0.7, 'colsample_bytree': 0.5}. Best is trial 10 with value: 0.7077364899036463.\u001b[0m\n",
            "\u001b[32m[I 2021-05-26 01:09:32,717]\u001b[0m Trial 11 finished with value: 0.7077364899036463 and parameters: {'max_depth': 30, 'subsample': 0.7, 'colsample_bytree': 0.5}. Best is trial 10 with value: 0.7077364899036463.\u001b[0m\n",
            "\u001b[32m[I 2021-05-26 01:09:56,781]\u001b[0m Trial 12 finished with value: 0.7077364899036463 and parameters: {'max_depth': 30, 'subsample': 0.7, 'colsample_bytree': 0.5}. Best is trial 10 with value: 0.7077364899036463.\u001b[0m\n",
            "\u001b[32m[I 2021-05-26 01:10:20,779]\u001b[0m Trial 13 finished with value: 0.7077364899036463 and parameters: {'max_depth': 30, 'subsample': 0.7, 'colsample_bytree': 0.5}. Best is trial 10 with value: 0.7077364899036463.\u001b[0m\n",
            "\u001b[32m[I 2021-05-26 01:10:45,913]\u001b[0m Trial 14 finished with value: 0.7113569714586537 and parameters: {'max_depth': 30, 'subsample': 0.7, 'colsample_bytree': 0.7}. Best is trial 10 with value: 0.7077364899036463.\u001b[0m\n",
            "\u001b[32m[I 2021-05-26 01:11:09,458]\u001b[0m Trial 15 finished with value: 0.7071630836211747 and parameters: {'max_depth': 29, 'subsample': 0.7, 'colsample_bytree': 0.5}. Best is trial 15 with value: 0.7071630836211747.\u001b[0m\n",
            "\u001b[32m[I 2021-05-26 01:11:33,132]\u001b[0m Trial 16 finished with value: 0.7071630836211747 and parameters: {'max_depth': 29, 'subsample': 0.7, 'colsample_bytree': 0.5}. Best is trial 15 with value: 0.7071630836211747.\u001b[0m\n",
            "\u001b[32m[I 2021-05-26 01:11:56,617]\u001b[0m Trial 17 finished with value: 0.7071630836211747 and parameters: {'max_depth': 29, 'subsample': 0.7, 'colsample_bytree': 0.5}. Best is trial 15 with value: 0.7071630836211747.\u001b[0m\n",
            "\u001b[32m[I 2021-05-26 01:12:21,888]\u001b[0m Trial 18 finished with value: 0.7117940981985715 and parameters: {'max_depth': 29, 'subsample': 0.7, 'colsample_bytree': 0.7}. Best is trial 15 with value: 0.7071630836211747.\u001b[0m\n",
            "\u001b[32m[I 2021-05-26 01:12:45,511]\u001b[0m Trial 19 finished with value: 0.7071630836211747 and parameters: {'max_depth': 29, 'subsample': 0.7, 'colsample_bytree': 0.5}. Best is trial 15 with value: 0.7071630836211747.\u001b[0m\n",
            "\u001b[32m[I 2021-05-26 01:13:10,671]\u001b[0m Trial 20 finished with value: 0.707847402588755 and parameters: {'max_depth': 27, 'subsample': 0.5, 'colsample_bytree': 0.5}. Best is trial 15 with value: 0.7071630836211747.\u001b[0m\n",
            "\u001b[32m[I 2021-05-26 01:13:34,185]\u001b[0m Trial 21 finished with value: 0.7071630836211747 and parameters: {'max_depth': 29, 'subsample': 0.7, 'colsample_bytree': 0.5}. Best is trial 15 with value: 0.7071630836211747.\u001b[0m\n",
            "\u001b[32m[I 2021-05-26 01:13:57,777]\u001b[0m Trial 22 finished with value: 0.7071630836211747 and parameters: {'max_depth': 29, 'subsample': 0.7, 'colsample_bytree': 0.5}. Best is trial 15 with value: 0.7071630836211747.\u001b[0m\n",
            "\u001b[32m[I 2021-05-26 01:14:20,916]\u001b[0m Trial 23 finished with value: 0.7075758649835973 and parameters: {'max_depth': 28, 'subsample': 0.7, 'colsample_bytree': 0.5}. Best is trial 15 with value: 0.7071630836211747.\u001b[0m\n",
            "\u001b[32m[I 2021-05-26 01:14:44,495]\u001b[0m Trial 24 finished with value: 0.7071630836211747 and parameters: {'max_depth': 29, 'subsample': 0.7, 'colsample_bytree': 0.5}. Best is trial 15 with value: 0.7071630836211747.\u001b[0m\n",
            "\u001b[32m[I 2021-05-26 01:15:13,074]\u001b[0m Trial 25 finished with value: 0.7262906682700797 and parameters: {'max_depth': 28, 'subsample': 0.6, 'colsample_bytree': 0.9}. Best is trial 15 with value: 0.7071630836211747.\u001b[0m\n",
            "\u001b[32m[I 2021-05-26 01:15:39,373]\u001b[0m Trial 26 finished with value: 0.7117940981985715 and parameters: {'max_depth': 29, 'subsample': 0.7, 'colsample_bytree': 0.7}. Best is trial 15 with value: 0.7071630836211747.\u001b[0m\n",
            "\u001b[32m[I 2021-05-26 01:16:04,279]\u001b[0m Trial 27 finished with value: 0.7076916742601058 and parameters: {'max_depth': 27, 'subsample': 0.7, 'colsample_bytree': 0.5}. Best is trial 15 with value: 0.7071630836211747.\u001b[0m\n",
            "\u001b[32m[I 2021-05-26 01:16:27,831]\u001b[0m Trial 28 finished with value: 0.7071630836211747 and parameters: {'max_depth': 29, 'subsample': 0.7, 'colsample_bytree': 0.5}. Best is trial 15 with value: 0.7071630836211747.\u001b[0m\n",
            "\u001b[32m[I 2021-05-26 01:16:54,383]\u001b[0m Trial 29 finished with value: 0.7083670115573522 and parameters: {'max_depth': 30, 'subsample': 0.5, 'colsample_bytree': 0.5}. Best is trial 15 with value: 0.7071630836211747.\u001b[0m\n",
            "\u001b[32m[I 2021-05-26 01:17:17,617]\u001b[0m Trial 30 finished with value: 0.7075758649835973 and parameters: {'max_depth': 28, 'subsample': 0.7, 'colsample_bytree': 0.5}. Best is trial 15 with value: 0.7071630836211747.\u001b[0m\n",
            "\u001b[32m[I 2021-05-26 01:17:41,266]\u001b[0m Trial 31 finished with value: 0.7071630836211747 and parameters: {'max_depth': 29, 'subsample': 0.7, 'colsample_bytree': 0.5}. Best is trial 15 with value: 0.7071630836211747.\u001b[0m\n",
            "\u001b[32m[I 2021-05-26 01:18:04,920]\u001b[0m Trial 32 finished with value: 0.7071630836211747 and parameters: {'max_depth': 29, 'subsample': 0.7, 'colsample_bytree': 0.5}. Best is trial 15 with value: 0.7071630836211747.\u001b[0m\n",
            "\u001b[32m[I 2021-05-26 01:18:28,458]\u001b[0m Trial 33 finished with value: 0.7082445475724065 and parameters: {'max_depth': 29, 'subsample': 0.6, 'colsample_bytree': 0.5}. Best is trial 15 with value: 0.7071630836211747.\u001b[0m\n",
            "\u001b[32m[I 2021-05-26 01:18:56,576]\u001b[0m Trial 34 finished with value: 0.7262072236018814 and parameters: {'max_depth': 28, 'subsample': 0.7, 'colsample_bytree': 0.9}. Best is trial 15 with value: 0.7071630836211747.\u001b[0m\n",
            "\u001b[32m[I 2021-05-26 01:19:22,935]\u001b[0m Trial 35 finished with value: 0.7127686530599429 and parameters: {'max_depth': 30, 'subsample': 0.5, 'colsample_bytree': 0.6}. Best is trial 15 with value: 0.7071630836211747.\u001b[0m\n",
            "\u001b[32m[I 2021-05-26 01:19:46,351]\u001b[0m Trial 36 finished with value: 0.7074010239172099 and parameters: {'max_depth': 29, 'subsample': 0.8, 'colsample_bytree': 0.5}. Best is trial 15 with value: 0.7071630836211747.\u001b[0m\n",
            "\u001b[32m[I 2021-05-26 01:20:10,927]\u001b[0m Trial 37 finished with value: 0.7121062755735361 and parameters: {'max_depth': 28, 'subsample': 0.9, 'colsample_bytree': 0.6}. Best is trial 15 with value: 0.7071630836211747.\u001b[0m\n",
            "\u001b[32m[I 2021-05-26 01:20:34,533]\u001b[0m Trial 38 finished with value: 0.7071630836211747 and parameters: {'max_depth': 29, 'subsample': 0.7, 'colsample_bytree': 0.5}. Best is trial 15 with value: 0.7071630836211747.\u001b[0m\n",
            "\u001b[32m[I 2021-05-26 01:21:03,900]\u001b[0m Trial 39 finished with value: 0.7264861779911155 and parameters: {'max_depth': 30, 'subsample': 0.7, 'colsample_bytree': 0.9}. Best is trial 15 with value: 0.7071630836211747.\u001b[0m\n",
            "\u001b[32m[I 2021-05-26 01:21:26,852]\u001b[0m Trial 40 finished with value: 0.7074530492673994 and parameters: {'max_depth': 28, 'subsample': 0.8, 'colsample_bytree': 0.5}. Best is trial 15 with value: 0.7071630836211747.\u001b[0m\n",
            "\u001b[32m[I 2021-05-26 01:21:50,400]\u001b[0m Trial 41 finished with value: 0.7071630836211747 and parameters: {'max_depth': 29, 'subsample': 0.7, 'colsample_bytree': 0.5}. Best is trial 15 with value: 0.7071630836211747.\u001b[0m\n",
            "\u001b[32m[I 2021-05-26 01:22:14,083]\u001b[0m Trial 42 finished with value: 0.7071630836211747 and parameters: {'max_depth': 29, 'subsample': 0.7, 'colsample_bytree': 0.5}. Best is trial 15 with value: 0.7071630836211747.\u001b[0m\n",
            "\u001b[32m[I 2021-05-26 01:22:36,643]\u001b[0m Trial 43 finished with value: 0.7081654982737077 and parameters: {'max_depth': 29, 'subsample': 0.9, 'colsample_bytree': 0.5}. Best is trial 15 with value: 0.7071630836211747.\u001b[0m\n",
            "\u001b[32m[I 2021-05-26 01:23:04,448]\u001b[0m Trial 44 finished with value: 0.7164227078103503 and parameters: {'max_depth': 29, 'subsample': 0.7, 'colsample_bytree': 0.8}. Best is trial 15 with value: 0.7071630836211747.\u001b[0m\n",
            "\u001b[32m[I 2021-05-26 01:23:28,498]\u001b[0m Trial 45 finished with value: 0.7077364899036463 and parameters: {'max_depth': 30, 'subsample': 0.7, 'colsample_bytree': 0.5}. Best is trial 15 with value: 0.7071630836211747.\u001b[0m\n",
            "\u001b[32m[I 2021-05-26 01:23:51,661]\u001b[0m Trial 46 finished with value: 0.7075758649835973 and parameters: {'max_depth': 28, 'subsample': 0.7, 'colsample_bytree': 0.5}. Best is trial 15 with value: 0.7071630836211747.\u001b[0m\n",
            "\u001b[32m[I 2021-05-26 01:24:15,900]\u001b[0m Trial 47 finished with value: 0.712405888484094 and parameters: {'max_depth': 25, 'subsample': 0.6, 'colsample_bytree': 0.6}. Best is trial 15 with value: 0.7071630836211747.\u001b[0m\n",
            "\u001b[32m[I 2021-05-26 01:24:39,821]\u001b[0m Trial 48 finished with value: 0.7077364899036463 and parameters: {'max_depth': 30, 'subsample': 0.7, 'colsample_bytree': 0.5}. Best is trial 15 with value: 0.7071630836211747.\u001b[0m\n",
            "\u001b[32m[I 2021-05-26 01:25:05,210]\u001b[0m Trial 49 finished with value: 0.7117940981985715 and parameters: {'max_depth': 29, 'subsample': 0.7, 'colsample_bytree': 0.7}. Best is trial 15 with value: 0.7071630836211747.\u001b[0m\n"
          ],
          "name": "stderr"
        },
        {
          "output_type": "execute_result",
          "data": {
            "text/plain": [
              "{'colsample_bytree': 0.5, 'max_depth': 29, 'subsample': 0.7}"
            ]
          },
          "metadata": {
            "tags": []
          },
          "execution_count": 38
        }
      ]
    },
    {
      "cell_type": "code",
      "metadata": {
        "id": "WafeYSMuGMiu"
      },
      "source": [
        "from sklearn.model_selection import StratifiedKFold\n",
        "skf = StratifiedKFold(n_splits=10, shuffle=True, random_state=42)\n",
        "folds=[]\n",
        "for train_idx, valid_idx in skf.split(train, train['credit']):\n",
        "    folds.append((train_idx, valid_idx))\n"
      ],
      "execution_count": 39,
      "outputs": []
    },
    {
      "cell_type": "code",
      "metadata": {
        "colab": {
          "base_uri": "https://localhost:8080/"
        },
        "id": "vLCKxjGN5H5X",
        "outputId": "78f750d1-f252-4c45-b153-57b636d0060f"
      },
      "source": [
        "import random\n",
        "random.seed(42)\n",
        "xgb_models={}\n",
        "for fold in range(10):\n",
        "    print(f'===================================={fold+1}============================================')\n",
        "    train_idx, valid_idx = folds[fold]\n",
        "    X_train, X_valid, y_train, y_valid = train.drop(['credit'],axis=1).iloc[train_idx].values, train.drop(['credit'],axis=1).iloc[valid_idx].values,\\\n",
        "                                         train['credit'][train_idx].values, train['credit'][valid_idx].values \n",
        "    xgb = XGBClassifier(n_estimators=1000,\n",
        "                        objective='multi:softprob',\n",
        "                        eval_metric='mlogloss',\n",
        "                        learning_rate=0.01,\n",
        "                        max_depth=29,\n",
        "                        subsample=0.7,\n",
        "                        colsample_bytree=0.5,\n",
        "                        )\n",
        "    xgb.fit(X_train, y_train, \n",
        "            eval_set=[(X_train, y_train), (X_valid, y_valid)], \n",
        "            early_stopping_rounds=100,\n",
        "           verbose=100)\n",
        "    xgb_models[fold]=xgb\n",
        "    print(f'================================================================================\\n\\n')"
      ],
      "execution_count": 40,
      "outputs": [
        {
          "output_type": "stream",
          "text": [
            "====================================1============================================\n",
            "[0]\tvalidation_0-mlogloss:1.09197\tvalidation_1-mlogloss:1.0935\n",
            "Multiple eval metrics have been passed: 'validation_1-mlogloss' will be used for early stopping.\n",
            "\n",
            "Will train until validation_1-mlogloss hasn't improved in 100 rounds.\n",
            "[100]\tvalidation_0-mlogloss:0.731487\tvalidation_1-mlogloss:0.829173\n",
            "[200]\tvalidation_0-mlogloss:0.567986\tvalidation_1-mlogloss:0.737972\n",
            "[300]\tvalidation_0-mlogloss:0.47292\tvalidation_1-mlogloss:0.700781\n",
            "[400]\tvalidation_0-mlogloss:0.410983\tvalidation_1-mlogloss:0.685794\n",
            "[500]\tvalidation_0-mlogloss:0.366199\tvalidation_1-mlogloss:0.679643\n",
            "[600]\tvalidation_0-mlogloss:0.329404\tvalidation_1-mlogloss:0.678095\n",
            "Stopping. Best iteration:\n",
            "[599]\tvalidation_0-mlogloss:0.330079\tvalidation_1-mlogloss:0.678051\n",
            "\n",
            "================================================================================\n",
            "\n",
            "\n",
            "====================================2============================================\n",
            "[0]\tvalidation_0-mlogloss:1.09216\tvalidation_1-mlogloss:1.0936\n",
            "Multiple eval metrics have been passed: 'validation_1-mlogloss' will be used for early stopping.\n",
            "\n",
            "Will train until validation_1-mlogloss hasn't improved in 100 rounds.\n",
            "[100]\tvalidation_0-mlogloss:0.731112\tvalidation_1-mlogloss:0.835296\n",
            "[200]\tvalidation_0-mlogloss:0.567156\tvalidation_1-mlogloss:0.744513\n",
            "[300]\tvalidation_0-mlogloss:0.471031\tvalidation_1-mlogloss:0.707369\n",
            "[400]\tvalidation_0-mlogloss:0.410421\tvalidation_1-mlogloss:0.692445\n",
            "[500]\tvalidation_0-mlogloss:0.364271\tvalidation_1-mlogloss:0.686088\n",
            "[600]\tvalidation_0-mlogloss:0.32772\tvalidation_1-mlogloss:0.684622\n",
            "Stopping. Best iteration:\n",
            "[594]\tvalidation_0-mlogloss:0.330011\tvalidation_1-mlogloss:0.684445\n",
            "\n",
            "================================================================================\n",
            "\n",
            "\n",
            "====================================3============================================\n",
            "[0]\tvalidation_0-mlogloss:1.09223\tvalidation_1-mlogloss:1.09373\n",
            "Multiple eval metrics have been passed: 'validation_1-mlogloss' will be used for early stopping.\n",
            "\n",
            "Will train until validation_1-mlogloss hasn't improved in 100 rounds.\n",
            "[100]\tvalidation_0-mlogloss:0.731519\tvalidation_1-mlogloss:0.83491\n",
            "[200]\tvalidation_0-mlogloss:0.568408\tvalidation_1-mlogloss:0.747273\n",
            "[300]\tvalidation_0-mlogloss:0.474516\tvalidation_1-mlogloss:0.713775\n",
            "[400]\tvalidation_0-mlogloss:0.412746\tvalidation_1-mlogloss:0.701798\n",
            "[500]\tvalidation_0-mlogloss:0.367476\tvalidation_1-mlogloss:0.698525\n",
            "Stopping. Best iteration:\n",
            "[479]\tvalidation_0-mlogloss:0.375543\tvalidation_1-mlogloss:0.698369\n",
            "\n",
            "================================================================================\n",
            "\n",
            "\n",
            "====================================4============================================\n",
            "[0]\tvalidation_0-mlogloss:1.09226\tvalidation_1-mlogloss:1.09385\n",
            "Multiple eval metrics have been passed: 'validation_1-mlogloss' will be used for early stopping.\n",
            "\n",
            "Will train until validation_1-mlogloss hasn't improved in 100 rounds.\n",
            "[100]\tvalidation_0-mlogloss:0.731552\tvalidation_1-mlogloss:0.838338\n",
            "[200]\tvalidation_0-mlogloss:0.56786\tvalidation_1-mlogloss:0.75302\n",
            "[300]\tvalidation_0-mlogloss:0.471281\tvalidation_1-mlogloss:0.719932\n",
            "[400]\tvalidation_0-mlogloss:0.409727\tvalidation_1-mlogloss:0.708018\n",
            "[500]\tvalidation_0-mlogloss:0.364835\tvalidation_1-mlogloss:0.704468\n",
            "[600]\tvalidation_0-mlogloss:0.328253\tvalidation_1-mlogloss:0.70517\n",
            "Stopping. Best iteration:\n",
            "[537]\tvalidation_0-mlogloss:0.350712\tvalidation_1-mlogloss:0.704253\n",
            "\n",
            "================================================================================\n",
            "\n",
            "\n",
            "====================================5============================================\n",
            "[0]\tvalidation_0-mlogloss:1.09228\tvalidation_1-mlogloss:1.09385\n",
            "Multiple eval metrics have been passed: 'validation_1-mlogloss' will be used for early stopping.\n",
            "\n",
            "Will train until validation_1-mlogloss hasn't improved in 100 rounds.\n",
            "[100]\tvalidation_0-mlogloss:0.73024\tvalidation_1-mlogloss:0.836421\n",
            "[200]\tvalidation_0-mlogloss:0.565495\tvalidation_1-mlogloss:0.750836\n",
            "[300]\tvalidation_0-mlogloss:0.469666\tvalidation_1-mlogloss:0.719489\n",
            "[400]\tvalidation_0-mlogloss:0.408149\tvalidation_1-mlogloss:0.708441\n",
            "[500]\tvalidation_0-mlogloss:0.362967\tvalidation_1-mlogloss:0.705498\n",
            "Stopping. Best iteration:\n",
            "[498]\tvalidation_0-mlogloss:0.363642\tvalidation_1-mlogloss:0.705464\n",
            "\n",
            "================================================================================\n",
            "\n",
            "\n",
            "====================================6============================================\n",
            "[0]\tvalidation_0-mlogloss:1.09199\tvalidation_1-mlogloss:1.09363\n",
            "Multiple eval metrics have been passed: 'validation_1-mlogloss' will be used for early stopping.\n",
            "\n",
            "Will train until validation_1-mlogloss hasn't improved in 100 rounds.\n",
            "[100]\tvalidation_0-mlogloss:0.730111\tvalidation_1-mlogloss:0.837397\n",
            "[200]\tvalidation_0-mlogloss:0.566634\tvalidation_1-mlogloss:0.752122\n",
            "[300]\tvalidation_0-mlogloss:0.470226\tvalidation_1-mlogloss:0.720581\n",
            "[400]\tvalidation_0-mlogloss:0.408455\tvalidation_1-mlogloss:0.709571\n",
            "[500]\tvalidation_0-mlogloss:0.363715\tvalidation_1-mlogloss:0.706989\n",
            "Stopping. Best iteration:\n",
            "[487]\tvalidation_0-mlogloss:0.368753\tvalidation_1-mlogloss:0.706895\n",
            "\n",
            "================================================================================\n",
            "\n",
            "\n",
            "====================================7============================================\n",
            "[0]\tvalidation_0-mlogloss:1.09211\tvalidation_1-mlogloss:1.09367\n",
            "Multiple eval metrics have been passed: 'validation_1-mlogloss' will be used for early stopping.\n",
            "\n",
            "Will train until validation_1-mlogloss hasn't improved in 100 rounds.\n",
            "[100]\tvalidation_0-mlogloss:0.7315\tvalidation_1-mlogloss:0.832058\n",
            "[200]\tvalidation_0-mlogloss:0.568911\tvalidation_1-mlogloss:0.740613\n",
            "[300]\tvalidation_0-mlogloss:0.473487\tvalidation_1-mlogloss:0.702796\n",
            "[400]\tvalidation_0-mlogloss:0.412399\tvalidation_1-mlogloss:0.685786\n",
            "[500]\tvalidation_0-mlogloss:0.36673\tvalidation_1-mlogloss:0.678433\n",
            "[600]\tvalidation_0-mlogloss:0.329344\tvalidation_1-mlogloss:0.676575\n",
            "Stopping. Best iteration:\n",
            "[598]\tvalidation_0-mlogloss:0.330313\tvalidation_1-mlogloss:0.676525\n",
            "\n",
            "================================================================================\n",
            "\n",
            "\n",
            "====================================8============================================\n",
            "[0]\tvalidation_0-mlogloss:1.09235\tvalidation_1-mlogloss:1.09384\n",
            "Multiple eval metrics have been passed: 'validation_1-mlogloss' will be used for early stopping.\n",
            "\n",
            "Will train until validation_1-mlogloss hasn't improved in 100 rounds.\n",
            "[100]\tvalidation_0-mlogloss:0.737912\tvalidation_1-mlogloss:0.838372\n",
            "[200]\tvalidation_0-mlogloss:0.572199\tvalidation_1-mlogloss:0.751821\n",
            "[300]\tvalidation_0-mlogloss:0.472691\tvalidation_1-mlogloss:0.717617\n",
            "[400]\tvalidation_0-mlogloss:0.408213\tvalidation_1-mlogloss:0.70544\n",
            "[500]\tvalidation_0-mlogloss:0.360995\tvalidation_1-mlogloss:0.702739\n",
            "[600]\tvalidation_0-mlogloss:0.322813\tvalidation_1-mlogloss:0.704967\n",
            "Stopping. Best iteration:\n",
            "[516]\tvalidation_0-mlogloss:0.354486\tvalidation_1-mlogloss:0.702591\n",
            "\n",
            "================================================================================\n",
            "\n",
            "\n",
            "====================================9============================================\n",
            "[0]\tvalidation_0-mlogloss:1.09236\tvalidation_1-mlogloss:1.0938\n",
            "Multiple eval metrics have been passed: 'validation_1-mlogloss' will be used for early stopping.\n",
            "\n",
            "Will train until validation_1-mlogloss hasn't improved in 100 rounds.\n",
            "[100]\tvalidation_0-mlogloss:0.737464\tvalidation_1-mlogloss:0.839849\n",
            "[200]\tvalidation_0-mlogloss:0.571995\tvalidation_1-mlogloss:0.755629\n",
            "[300]\tvalidation_0-mlogloss:0.473286\tvalidation_1-mlogloss:0.723104\n",
            "[400]\tvalidation_0-mlogloss:0.408925\tvalidation_1-mlogloss:0.711171\n",
            "[500]\tvalidation_0-mlogloss:0.361204\tvalidation_1-mlogloss:0.709002\n",
            "[600]\tvalidation_0-mlogloss:0.323007\tvalidation_1-mlogloss:0.711068\n",
            "Stopping. Best iteration:\n",
            "[520]\tvalidation_0-mlogloss:0.353097\tvalidation_1-mlogloss:0.708799\n",
            "\n",
            "================================================================================\n",
            "\n",
            "\n",
            "====================================10============================================\n",
            "[0]\tvalidation_0-mlogloss:1.09236\tvalidation_1-mlogloss:1.09375\n",
            "Multiple eval metrics have been passed: 'validation_1-mlogloss' will be used for early stopping.\n",
            "\n",
            "Will train until validation_1-mlogloss hasn't improved in 100 rounds.\n",
            "[100]\tvalidation_0-mlogloss:0.7394\tvalidation_1-mlogloss:0.83616\n",
            "[200]\tvalidation_0-mlogloss:0.574483\tvalidation_1-mlogloss:0.748658\n",
            "[300]\tvalidation_0-mlogloss:0.473693\tvalidation_1-mlogloss:0.713961\n",
            "[400]\tvalidation_0-mlogloss:0.409389\tvalidation_1-mlogloss:0.701468\n",
            "[500]\tvalidation_0-mlogloss:0.361349\tvalidation_1-mlogloss:0.698791\n",
            "[600]\tvalidation_0-mlogloss:0.323726\tvalidation_1-mlogloss:0.700768\n",
            "Stopping. Best iteration:\n",
            "[504]\tvalidation_0-mlogloss:0.359365\tvalidation_1-mlogloss:0.69867\n",
            "\n",
            "================================================================================\n",
            "\n",
            "\n"
          ],
          "name": "stdout"
        }
      ]
    },
    {
      "cell_type": "code",
      "metadata": {
        "id": "sGMijoaaGMDc"
      },
      "source": [
        "test.rename(columns = {'reality' : 'f0','income_total' : 'f1', 'income_type' : 'f2', 'DAYS_BIRTH' : 'f3', 'DAYS_EMPLOYED' : 'f4', 'occyp_type' : 'f5', 'begin_month' : 'f6'}, inplace = True)"
      ],
      "execution_count": 41,
      "outputs": []
    },
    {
      "cell_type": "code",
      "metadata": {
        "colab": {
          "base_uri": "https://localhost:8080/",
          "height": 402
        },
        "id": "o39Vb8BnGlWC",
        "outputId": "93f3ab87-47a1-43ba-8863-5b98269eeb36"
      },
      "source": [
        "test"
      ],
      "execution_count": 42,
      "outputs": [
        {
          "output_type": "execute_result",
          "data": {
            "text/html": [
              "<div>\n",
              "<style scoped>\n",
              "    .dataframe tbody tr th:only-of-type {\n",
              "        vertical-align: middle;\n",
              "    }\n",
              "\n",
              "    .dataframe tbody tr th {\n",
              "        vertical-align: top;\n",
              "    }\n",
              "\n",
              "    .dataframe thead th {\n",
              "        text-align: right;\n",
              "    }\n",
              "</style>\n",
              "<table border=\"1\" class=\"dataframe\">\n",
              "  <thead>\n",
              "    <tr style=\"text-align: right;\">\n",
              "      <th></th>\n",
              "      <th>f0</th>\n",
              "      <th>f1</th>\n",
              "      <th>f2</th>\n",
              "      <th>f3</th>\n",
              "      <th>f4</th>\n",
              "      <th>f5</th>\n",
              "      <th>f6</th>\n",
              "    </tr>\n",
              "  </thead>\n",
              "  <tbody>\n",
              "    <tr>\n",
              "      <th>0</th>\n",
              "      <td>0</td>\n",
              "      <td>-0.734287</td>\n",
              "      <td>1</td>\n",
              "      <td>-1.435662</td>\n",
              "      <td>2.227162</td>\n",
              "      <td>4</td>\n",
              "      <td>-2.045789</td>\n",
              "    </tr>\n",
              "    <tr>\n",
              "      <th>1</th>\n",
              "      <td>1</td>\n",
              "      <td>-0.513431</td>\n",
              "      <td>2</td>\n",
              "      <td>-0.715444</td>\n",
              "      <td>-0.492750</td>\n",
              "      <td>0</td>\n",
              "      <td>-0.596447</td>\n",
              "    </tr>\n",
              "    <tr>\n",
              "      <th>2</th>\n",
              "      <td>1</td>\n",
              "      <td>-1.157623</td>\n",
              "      <td>4</td>\n",
              "      <td>0.016912</td>\n",
              "      <td>-0.431254</td>\n",
              "      <td>2</td>\n",
              "      <td>-0.838004</td>\n",
              "    </tr>\n",
              "    <tr>\n",
              "      <th>3</th>\n",
              "      <td>0</td>\n",
              "      <td>-0.734287</td>\n",
              "      <td>0</td>\n",
              "      <td>-0.788275</td>\n",
              "      <td>-0.448087</td>\n",
              "      <td>1</td>\n",
              "      <td>-0.898393</td>\n",
              "    </tr>\n",
              "    <tr>\n",
              "      <th>4</th>\n",
              "      <td>1</td>\n",
              "      <td>0.369992</td>\n",
              "      <td>2</td>\n",
              "      <td>-0.443637</td>\n",
              "      <td>-0.497944</td>\n",
              "      <td>3</td>\n",
              "      <td>1.094452</td>\n",
              "    </tr>\n",
              "    <tr>\n",
              "      <th>...</th>\n",
              "      <td>...</td>\n",
              "      <td>...</td>\n",
              "      <td>...</td>\n",
              "      <td>...</td>\n",
              "      <td>...</td>\n",
              "      <td>...</td>\n",
              "      <td>...</td>\n",
              "    </tr>\n",
              "    <tr>\n",
              "      <th>9995</th>\n",
              "      <td>1</td>\n",
              "      <td>0.149136</td>\n",
              "      <td>4</td>\n",
              "      <td>-0.627143</td>\n",
              "      <td>-0.469204</td>\n",
              "      <td>6</td>\n",
              "      <td>0.430170</td>\n",
              "    </tr>\n",
              "    <tr>\n",
              "      <th>9996</th>\n",
              "      <td>1</td>\n",
              "      <td>0.149136</td>\n",
              "      <td>4</td>\n",
              "      <td>1.207198</td>\n",
              "      <td>-0.439241</td>\n",
              "      <td>2</td>\n",
              "      <td>-0.475668</td>\n",
              "    </tr>\n",
              "    <tr>\n",
              "      <th>9997</th>\n",
              "      <td>1</td>\n",
              "      <td>1.032559</td>\n",
              "      <td>4</td>\n",
              "      <td>-1.203840</td>\n",
              "      <td>-0.531645</td>\n",
              "      <td>6</td>\n",
              "      <td>-1.743843</td>\n",
              "    </tr>\n",
              "    <tr>\n",
              "      <th>9998</th>\n",
              "      <td>0</td>\n",
              "      <td>-0.071719</td>\n",
              "      <td>0</td>\n",
              "      <td>-0.138747</td>\n",
              "      <td>-0.437568</td>\n",
              "      <td>7</td>\n",
              "      <td>-0.415279</td>\n",
              "    </tr>\n",
              "    <tr>\n",
              "      <th>9999</th>\n",
              "      <td>1</td>\n",
              "      <td>0.811704</td>\n",
              "      <td>4</td>\n",
              "      <td>1.619431</td>\n",
              "      <td>-0.431036</td>\n",
              "      <td>2</td>\n",
              "      <td>0.913284</td>\n",
              "    </tr>\n",
              "  </tbody>\n",
              "</table>\n",
              "<p>10000 rows × 7 columns</p>\n",
              "</div>"
            ],
            "text/plain": [
              "      f0        f1  f2        f3        f4  f5        f6\n",
              "0      0 -0.734287   1 -1.435662  2.227162   4 -2.045789\n",
              "1      1 -0.513431   2 -0.715444 -0.492750   0 -0.596447\n",
              "2      1 -1.157623   4  0.016912 -0.431254   2 -0.838004\n",
              "3      0 -0.734287   0 -0.788275 -0.448087   1 -0.898393\n",
              "4      1  0.369992   2 -0.443637 -0.497944   3  1.094452\n",
              "...   ..       ...  ..       ...       ...  ..       ...\n",
              "9995   1  0.149136   4 -0.627143 -0.469204   6  0.430170\n",
              "9996   1  0.149136   4  1.207198 -0.439241   2 -0.475668\n",
              "9997   1  1.032559   4 -1.203840 -0.531645   6 -1.743843\n",
              "9998   0 -0.071719   0 -0.138747 -0.437568   7 -0.415279\n",
              "9999   1  0.811704   4  1.619431 -0.431036   2  0.913284\n",
              "\n",
              "[10000 rows x 7 columns]"
            ]
          },
          "metadata": {
            "tags": []
          },
          "execution_count": 42
        }
      ]
    },
    {
      "cell_type": "code",
      "metadata": {
        "id": "Lcn2-Tfi6Q9Q"
      },
      "source": [
        "submit.iloc[:,1:]=0\n",
        "for fold in range(10):\n",
        "    submit.iloc[:,1:] += xgb_models[fold].predict_proba(test)/10"
      ],
      "execution_count": 43,
      "outputs": []
    },
    {
      "cell_type": "code",
      "metadata": {
        "id": "rYB0qmk56s-g"
      },
      "source": [
        "submit.to_csv('xgb_final.csv', index=False)"
      ],
      "execution_count": 44,
      "outputs": []
    },
    {
      "cell_type": "code",
      "metadata": {
        "id": "r3nHRniD6137"
      },
      "source": [
        ""
      ],
      "execution_count": null,
      "outputs": []
    }
  ]
}